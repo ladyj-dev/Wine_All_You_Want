{
  "nbformat": 4,
  "nbformat_minor": 0,
  "metadata": {
    "colab": {
      "name": "Machine_Learning_wine_by_type_final.ipynb",
      "provenance": [],
      "collapsed_sections": [],
      "authorship_tag": "ABX9TyM5jU8eFMSuGyp7JRfkPsBE",
      "include_colab_link": true
    },
    "kernelspec": {
      "name": "python3",
      "display_name": "Python 3"
    }
  },
  "cells": [
    {
      "cell_type": "markdown",
      "metadata": {
        "id": "view-in-github",
        "colab_type": "text"
      },
      "source": [
        "<a href=\"https://colab.research.google.com/github/ladyj-dev/Wine_All_You_Want/blob/main/Machine_Learning_wine_by_type_final.ipynb\" target=\"_parent\"><img src=\"https://colab.research.google.com/assets/colab-badge.svg\" alt=\"Open In Colab\"/></a>"
      ]
    },
    {
      "cell_type": "code",
      "metadata": {
        "id": "pEtEAnZTKnP_"
      },
      "source": [
        "# import dependencies\r\n",
        "import pandas as pd\r\n",
        "import numpy as np\r\n",
        "import matplotlib.pyplot as plt\r\n",
        "\r\n",
        "from sklearn.model_selection import train_test_split\r\n",
        "from sklearn.feature_extraction.text import TfidfTransformer\r\n",
        "from sklearn.feature_extraction.text import CountVectorizer\r\n",
        "from sklearn.naive_bayes import MultinomialNB\r\n",
        "from sklearn.pipeline import Pipeline\r\n",
        "from sklearn.linear_model import SGDClassifier\r\n",
        "from sklearn import metrics\r\n",
        "from sklearn.metrics import plot_confusion_matrix\r\n",
        "from sklearn.model_selection import GridSearchCV"
      ],
      "execution_count": 9,
      "outputs": []
    },
    {
      "cell_type": "code",
      "metadata": {
        "colab": {
          "base_uri": "https://localhost:8080/"
        },
        "id": "rVtaviHQFTTX",
        "outputId": "be46dfea-077f-4e71-dd9d-dcb2f24330d8"
      },
      "source": [
        "# Pull in csv file from AWS S3 bucket\r\n",
        "url = \"https://winedata150k.s3.us-east-2.amazonaws.com/data_cleaning/wine_matched_final.csv\"\r\n",
        "df = pd.read_csv(url)\r\n",
        "df.info()"
      ],
      "execution_count": 10,
      "outputs": [
        {
          "output_type": "stream",
          "text": [
            "<class 'pandas.core.frame.DataFrame'>\n",
            "RangeIndex: 93557 entries, 0 to 93556\n",
            "Data columns (total 13 columns):\n",
            " #   Column               Non-Null Count  Dtype  \n",
            "---  ------               --------------  -----  \n",
            " 0   contry               0 non-null      float64\n",
            " 1   province             93557 non-null  object \n",
            " 2   region_1             93557 non-null  object \n",
            " 3   winery               93557 non-null  object \n",
            " 4   wine_type            93557 non-null  object \n",
            " 5   wine_style           93557 non-null  object \n",
            " 6   variety              93557 non-null  object \n",
            " 7   wine_name            93557 non-null  object \n",
            " 8   points               93557 non-null  int64  \n",
            " 9   price                93557 non-null  float64\n",
            " 10  earned_points        93557 non-null  int64  \n",
            " 11  earned_points_per_$  93557 non-null  float64\n",
            " 12  description          93557 non-null  object \n",
            "dtypes: float64(3), int64(2), object(8)\n",
            "memory usage: 9.3+ MB\n"
          ],
          "name": "stdout"
        }
      ]
    },
    {
      "cell_type": "markdown",
      "metadata": {
        "id": "gsht65cNKeQm"
      },
      "source": [
        "Pre-processing to ready data for ML models."
      ]
    },
    {
      "cell_type": "code",
      "metadata": {
        "colab": {
          "base_uri": "https://localhost:8080/"
        },
        "id": "IQPRZACQGTNw",
        "outputId": "0cf74ed1-a672-4593-bf9a-880e6bde88ce"
      },
      "source": [
        "# reduce the df to only wine_type & description to serve as label and text\r\n",
        "column_names = [\"variety\", \"description\"]\r\n",
        "df = df.reindex(columns=column_names)\r\n",
        "df.info()"
      ],
      "execution_count": 12,
      "outputs": [
        {
          "output_type": "stream",
          "text": [
            "<class 'pandas.core.frame.DataFrame'>\n",
            "RangeIndex: 93557 entries, 0 to 93556\n",
            "Data columns (total 2 columns):\n",
            " #   Column       Non-Null Count  Dtype \n",
            "---  ------       --------------  ----- \n",
            " 0   variety      93557 non-null  object\n",
            " 1   description  93557 non-null  object\n",
            "dtypes: object(2)\n",
            "memory usage: 1.4+ MB\n"
          ],
          "name": "stdout"
        }
      ]
    },
    {
      "cell_type": "code",
      "metadata": {
        "colab": {
          "base_uri": "https://localhost:8080/"
        },
        "id": "D1Iu2CiBGnhM",
        "outputId": "1abbafc1-faf9-47e3-e9b6-e5108346afca"
      },
      "source": [
        "# rename wine type to label and description to text for ML \r\n",
        "df.rename(columns={\"variety\": \"label\", \"description\": \"text\"}, inplace=True)\r\n",
        "data = df\r\n",
        "data.info()"
      ],
      "execution_count": 13,
      "outputs": [
        {
          "output_type": "stream",
          "text": [
            "<class 'pandas.core.frame.DataFrame'>\n",
            "RangeIndex: 93557 entries, 0 to 93556\n",
            "Data columns (total 2 columns):\n",
            " #   Column  Non-Null Count  Dtype \n",
            "---  ------  --------------  ----- \n",
            " 0   label   93557 non-null  object\n",
            " 1   text    93557 non-null  object\n",
            "dtypes: object(2)\n",
            "memory usage: 1.4+ MB\n"
          ],
          "name": "stdout"
        }
      ]
    },
    {
      "cell_type": "code",
      "metadata": {
        "colab": {
          "base_uri": "https://localhost:8080/"
        },
        "id": "PWkQsLK4HA-F",
        "outputId": "057827d0-fa98-49a7-8720-9c5c7608975e"
      },
      "source": [
        "# how many wine_type are in df\r\n",
        "data[\"label\"].value_counts()"
      ],
      "execution_count": 14,
      "outputs": [
        {
          "output_type": "execute_result",
          "data": {
            "text/plain": [
              "Chardonnay            13351\n",
              "Pinot Noir            13246\n",
              "Cabernet Sauvignon    11891\n",
              "Sauvignon Blanc        5970\n",
              "Syrah                  5492\n",
              "Riesling               5029\n",
              "Merlot                 4801\n",
              "Zinfandel              3792\n",
              "Malbec                 3026\n",
              "Sangiovese             2809\n",
              "Tempranillo            2439\n",
              "Rosé                   2416\n",
              "Shiraz                 1841\n",
              "Nebbiolo               1414\n",
              "Pinot Grigio           1258\n",
              "Cabernet Franc         1258\n",
              "Pinot Gris             1252\n",
              "Viognier               1227\n",
              "Barbera                 956\n",
              "Petite Sirah            887\n",
              "Gewürztraminer          868\n",
              "Grüner Veltliner        834\n",
              "Port                    743\n",
              "Chenin Blanc            631\n",
              "Grenache                585\n",
              "Albariño                529\n",
              "Prosecco                515\n",
              "Moscato                 378\n",
              "Torrontés               363\n",
              "Dolcetto                332\n",
              "Garganega               307\n",
              "Gamay                   299\n",
              "Montepulciano           272\n",
              "Sémillon                214\n",
              "Zweigelt                199\n",
              "Petit Verdot            196\n",
              "Pinotage                193\n",
              "Vermentino              190\n",
              "Blaufränkisch           187\n",
              "Roussanne               182\n",
              "Touriga Nacional        155\n",
              "Monastrell              148\n",
              "Mencía                  146\n",
              "Marsanne                105\n",
              "Sherry                   99\n",
              "Tannat                   95\n",
              "Sagrantino               79\n",
              "Grenache Blanc           73\n",
              "Nerello Mascalese        71\n",
              "Lambrusco                54\n",
              "Verdicchio               47\n",
              "Moscatel                 35\n",
              "Frappato                 30\n",
              "Cinsault                 25\n",
              "Schiava                   7\n",
              "Chasselas                 5\n",
              "Picpoul                   5\n",
              "Muskateller               4\n",
              "Muscadet                  2\n",
              "Name: label, dtype: int64"
            ]
          },
          "metadata": {
            "tags": []
          },
          "execution_count": 14
        }
      ]
    },
    {
      "cell_type": "code",
      "metadata": {
        "colab": {
          "base_uri": "https://localhost:8080/"
        },
        "id": "Qq839YKkHSeq",
        "outputId": "4594f990-c1ab-455f-ea55-052f1712a919"
      },
      "source": [
        "data[\"text\"].head()"
      ],
      "execution_count": 15,
      "outputs": [
        {
          "output_type": "execute_result",
          "data": {
            "text/plain": [
              "0    Mac Watson honors the memory of a wine once ma...\n",
              "1    This spent 20 months in 30% new French oak, an...\n",
              "2    This re-named vineyard was formerly bottled as...\n",
              "3    The producer sources from two blocks of the vi...\n",
              "4    From 18-year-old vines, this supple well-balan...\n",
              "Name: text, dtype: object"
            ]
          },
          "metadata": {
            "tags": []
          },
          "execution_count": 15
        }
      ]
    },
    {
      "cell_type": "markdown",
      "metadata": {
        "id": "anReA_1mHkZm"
      },
      "source": [
        "Ready to drill into the data by using train and test to divide it."
      ]
    },
    {
      "cell_type": "code",
      "metadata": {
        "id": "l4LVXtm4HiZc"
      },
      "source": [
        "X = data[\"text\"]\r\n",
        "y = data[\"label\"]\r\n",
        "\r\n",
        "X_train, X_test, y_train, y_test = train_test_split(X, y, random_state=42)"
      ],
      "execution_count": 16,
      "outputs": []
    },
    {
      "cell_type": "markdown",
      "metadata": {
        "id": "1sZdQbbKIJUe"
      },
      "source": [
        "Tokenize text using the bag of words technique to extract features"
      ]
    },
    {
      "cell_type": "code",
      "metadata": {
        "colab": {
          "base_uri": "https://localhost:8080/"
        },
        "id": "XpiSgraWIImq",
        "outputId": "cffa901f-e67a-48db-ba82-6752fc6ed013"
      },
      "source": [
        "count_vect = CountVectorizer()\r\n",
        "count_vect"
      ],
      "execution_count": 17,
      "outputs": [
        {
          "output_type": "execute_result",
          "data": {
            "text/plain": [
              "CountVectorizer(analyzer='word', binary=False, decode_error='strict',\n",
              "                dtype=<class 'numpy.int64'>, encoding='utf-8', input='content',\n",
              "                lowercase=True, max_df=1.0, max_features=None, min_df=1,\n",
              "                ngram_range=(1, 1), preprocessor=None, stop_words=None,\n",
              "                strip_accents=None, token_pattern='(?u)\\\\b\\\\w\\\\w+\\\\b',\n",
              "                tokenizer=None, vocabulary=None)"
            ]
          },
          "metadata": {
            "tags": []
          },
          "execution_count": 17
        }
      ]
    },
    {
      "cell_type": "code",
      "metadata": {
        "colab": {
          "base_uri": "https://localhost:8080/"
        },
        "id": "p_nrflWzIiOp",
        "outputId": "0ef5bb73-37a4-4ba2-e33b-327fd2d00c5c"
      },
      "source": [
        "# create bag of words for training data \r\n",
        "X_train_counts = count_vect.fit_transform(X_train)\r\n",
        "X_train_counts.shape"
      ],
      "execution_count": 19,
      "outputs": [
        {
          "output_type": "execute_result",
          "data": {
            "text/plain": [
              "(70167, 22291)"
            ]
          },
          "metadata": {
            "tags": []
          },
          "execution_count": 19
        }
      ]
    },
    {
      "cell_type": "code",
      "metadata": {
        "id": "39DJvh5wL8iM"
      },
      "source": [
        "# CountVectorizer supports counts of consecutive words. Once fitted the vectorizer builds a dict of feature indices\r\n",
        "count_vect.vocabulary_.get(u\"algorithm\")"
      ],
      "execution_count": 20,
      "outputs": []
    },
    {
      "cell_type": "code",
      "metadata": {
        "colab": {
          "base_uri": "https://localhost:8080/"
        },
        "id": "F7bc5pWVMNkw",
        "outputId": "aaf47a43-ab2e-4eeb-e9ad-1d661a4af603"
      },
      "source": [
        "# calculate TF & TF-IDF \r\n",
        "tfidf_transformer = TfidfTransformer(use_idf=False)\r\n",
        "X_train_tfidf = tfidf_transformer.fit_transform(X_train_counts)\r\n",
        "X_train_tfidf.shape"
      ],
      "execution_count": 21,
      "outputs": [
        {
          "output_type": "execute_result",
          "data": {
            "text/plain": [
              "(70167, 22291)"
            ]
          },
          "metadata": {
            "tags": []
          },
          "execution_count": 21
        }
      ]
    },
    {
      "cell_type": "markdown",
      "metadata": {
        "id": "knpvVp0pMvWE"
      },
      "source": [
        "Notice the output above is the dimension of the Document-Term matrix and the same shape as our X_train_counts shape."
      ]
    },
    {
      "cell_type": "markdown",
      "metadata": {
        "id": "oiohtnsPNSfz"
      },
      "source": [
        "Using Naive Bayes Classifier - most common for word counts"
      ]
    },
    {
      "cell_type": "code",
      "metadata": {
        "id": "DrbqawnENPlz"
      },
      "source": [
        "clf = MultinomialNB().fit(X_train_tfidf, y_train)"
      ],
      "execution_count": 23,
      "outputs": []
    },
    {
      "cell_type": "code",
      "metadata": {
        "colab": {
          "base_uri": "https://localhost:8080/"
        },
        "id": "RNQM7DijNoI3",
        "outputId": "75833fb0-3ec1-4454-8200-947490783a7e"
      },
      "source": [
        "# select text from a row of X_test\r\n",
        "new_wine_description = [X_test.iloc[0]]\r\n",
        "\r\n",
        "new_wine_description"
      ],
      "execution_count": 24,
      "outputs": [
        {
          "output_type": "execute_result",
          "data": {
            "text/plain": [
              "['While there are plenty of firm tannins and weight here, the wine does feel somewhat hollow. The red fruits are there, showing slowly against the tannins. It has fine final acidity, but not the power and concentration you should expect.']"
            ]
          },
          "metadata": {
            "tags": []
          },
          "execution_count": 24
        }
      ]
    },
    {
      "cell_type": "markdown",
      "metadata": {
        "id": "nBMP0KvBOPMr"
      },
      "source": [
        "Test time!"
      ]
    },
    {
      "cell_type": "code",
      "metadata": {
        "colab": {
          "base_uri": "https://localhost:8080/",
          "height": 35
        },
        "id": "U3OiQJV4OFUw",
        "outputId": "7775b67e-f85c-4b4e-ce8a-88eeb5f1be0a"
      },
      "source": [
        "y_test.iloc[0]"
      ],
      "execution_count": 25,
      "outputs": [
        {
          "output_type": "execute_result",
          "data": {
            "application/vnd.google.colaboratory.intrinsic+json": {
              "type": "string"
            },
            "text/plain": [
              "'Pinot Noir'"
            ]
          },
          "metadata": {
            "tags": []
          },
          "execution_count": 25
        }
      ]
    },
    {
      "cell_type": "markdown",
      "metadata": {
        "id": "tRy3uTlAOX-b"
      },
      "source": [
        "It worked, it really worked! Baby steps we have a long way to go. Now to building a pipeline."
      ]
    },
    {
      "cell_type": "code",
      "metadata": {
        "id": "4RE-GBIzOZtL"
      },
      "source": [
        "text_clf = Pipeline([\r\n",
        "      (\"vect\", CountVectorizer()),\r\n",
        "      (\"tfidf\", TfidfTransformer()),\r\n",
        "      (\"clf\", MultinomialNB()),\r\n",
        "])"
      ],
      "execution_count": 26,
      "outputs": []
    },
    {
      "cell_type": "code",
      "metadata": {
        "colab": {
          "base_uri": "https://localhost:8080/"
        },
        "id": "n0iH6hTNOVjR",
        "outputId": "3813cb3f-bf01-4628-ff84-5d3809a19b5b"
      },
      "source": [
        "text_clf.fit(X_train, y_train)"
      ],
      "execution_count": 27,
      "outputs": [
        {
          "output_type": "execute_result",
          "data": {
            "text/plain": [
              "Pipeline(memory=None,\n",
              "         steps=[('vect',\n",
              "                 CountVectorizer(analyzer='word', binary=False,\n",
              "                                 decode_error='strict',\n",
              "                                 dtype=<class 'numpy.int64'>, encoding='utf-8',\n",
              "                                 input='content', lowercase=True, max_df=1.0,\n",
              "                                 max_features=None, min_df=1,\n",
              "                                 ngram_range=(1, 1), preprocessor=None,\n",
              "                                 stop_words=None, strip_accents=None,\n",
              "                                 token_pattern='(?u)\\\\b\\\\w\\\\w+\\\\b',\n",
              "                                 tokenizer=None, vocabulary=None)),\n",
              "                ('tfidf',\n",
              "                 TfidfTransformer(norm='l2', smooth_idf=True,\n",
              "                                  sublinear_tf=False, use_idf=True)),\n",
              "                ('clf',\n",
              "                 MultinomialNB(alpha=1.0, class_prior=None, fit_prior=True))],\n",
              "         verbose=False)"
            ]
          },
          "metadata": {
            "tags": []
          },
          "execution_count": 27
        }
      ]
    },
    {
      "cell_type": "code",
      "metadata": {
        "colab": {
          "base_uri": "https://localhost:8080/"
        },
        "id": "SgRa6X-qPB1H",
        "outputId": "fc48c9fe-7454-422f-9998-83d7c85ebc04"
      },
      "source": [
        "docs_test = data[\"text\"]\r\n",
        "predicted = text_clf.predict(docs_test)\r\n",
        "np.mean(predicted == data[\"label\"])"
      ],
      "execution_count": 28,
      "outputs": [
        {
          "output_type": "execute_result",
          "data": {
            "text/plain": [
              "0.48341652682322006"
            ]
          },
          "metadata": {
            "tags": []
          },
          "execution_count": 28
        }
      ]
    },
    {
      "cell_type": "markdown",
      "metadata": {
        "id": "BfAPJ-nYQ9ZS"
      },
      "source": [
        "Use Support Vector Machine (SGD) for next test."
      ]
    },
    {
      "cell_type": "code",
      "metadata": {
        "colab": {
          "base_uri": "https://localhost:8080/"
        },
        "id": "Q2WPO5IwQIJE",
        "outputId": "655e90af-298b-4f11-f5e8-9a902f62c09f"
      },
      "source": [
        "text_clf = Pipeline ([\r\n",
        "    (\"vect\", CountVectorizer()),\r\n",
        "    (\"tfidf\", TfidfTransformer()),\r\n",
        "    (\"clf\", SGDClassifier())\r\n",
        "])\r\n",
        "text_clf.fit(data[\"text\"], data[\"label\"])"
      ],
      "execution_count": 31,
      "outputs": [
        {
          "output_type": "execute_result",
          "data": {
            "text/plain": [
              "Pipeline(memory=None,\n",
              "         steps=[('vect',\n",
              "                 CountVectorizer(analyzer='word', binary=False,\n",
              "                                 decode_error='strict',\n",
              "                                 dtype=<class 'numpy.int64'>, encoding='utf-8',\n",
              "                                 input='content', lowercase=True, max_df=1.0,\n",
              "                                 max_features=None, min_df=1,\n",
              "                                 ngram_range=(1, 1), preprocessor=None,\n",
              "                                 stop_words=None, strip_accents=None,\n",
              "                                 token_pattern='(?u)\\\\b\\\\w\\\\w+\\\\b',\n",
              "                                 tokenizer=None, vocabulary=Non...\n",
              "                 SGDClassifier(alpha=0.0001, average=False, class_weight=None,\n",
              "                               early_stopping=False, epsilon=0.1, eta0=0.0,\n",
              "                               fit_intercept=True, l1_ratio=0.15,\n",
              "                               learning_rate='optimal', loss='hinge',\n",
              "                               max_iter=1000, n_iter_no_change=5, n_jobs=None,\n",
              "                               penalty='l2', power_t=0.5, random_state=None,\n",
              "                               shuffle=True, tol=0.001, validation_fraction=0.1,\n",
              "                               verbose=0, warm_start=False))],\n",
              "         verbose=False)"
            ]
          },
          "metadata": {
            "tags": []
          },
          "execution_count": 31
        }
      ]
    },
    {
      "cell_type": "markdown",
      "metadata": {
        "id": "jcWhz9TARL_T"
      },
      "source": [
        "I dont see the second step, will do further exploration on that and revisit."
      ]
    },
    {
      "cell_type": "code",
      "metadata": {
        "colab": {
          "base_uri": "https://localhost:8080/"
        },
        "id": "K0EE08UeSOjA",
        "outputId": "ae622594-3339-4c59-eb5b-008bae09e54c"
      },
      "source": [
        "predicted = text_clf.predict(data[\"text\"])\r\n",
        "np.mean(predicted == data[\"label\"])"
      ],
      "execution_count": 32,
      "outputs": [
        {
          "output_type": "execute_result",
          "data": {
            "text/plain": [
              "0.8144553587652447"
            ]
          },
          "metadata": {
            "tags": []
          },
          "execution_count": 32
        }
      ]
    },
    {
      "cell_type": "code",
      "metadata": {
        "colab": {
          "base_uri": "https://localhost:8080/"
        },
        "id": "2gW7l11dSv3g",
        "outputId": "1979ceef-8111-4603-cf2c-5c14acb6754e"
      },
      "source": [
        "# Scikit-learn analysis of results\r\n",
        "print(metrics.classification_report(data[\"label\"], predicted))"
      ],
      "execution_count": 33,
      "outputs": [
        {
          "output_type": "stream",
          "text": [
            "                    precision    recall  f1-score   support\n",
            "\n",
            "          Albariño       0.91      0.60      0.72       529\n",
            "           Barbera       0.93      0.84      0.88       956\n",
            "     Blaufränkisch       0.91      0.71      0.80       187\n",
            "    Cabernet Franc       0.83      0.52      0.64      1258\n",
            "Cabernet Sauvignon       0.77      0.85      0.81     11891\n",
            "        Chardonnay       0.79      0.95      0.87     13351\n",
            "         Chasselas       0.09      0.20      0.13         5\n",
            "      Chenin Blanc       0.92      0.58      0.71       631\n",
            "          Cinsault       0.19      0.20      0.19        25\n",
            "          Dolcetto       0.96      0.83      0.89       332\n",
            "          Frappato       0.68      0.63      0.66        30\n",
            "             Gamay       0.90      0.55      0.68       299\n",
            "         Garganega       0.99      0.86      0.92       307\n",
            "    Gewürztraminer       0.90      0.77      0.83       868\n",
            "          Grenache       0.81      0.43      0.57       585\n",
            "    Grenache Blanc       0.50      0.11      0.18        73\n",
            "  Grüner Veltliner       0.88      0.70      0.78       834\n",
            "         Lambrusco       0.85      0.87      0.86        54\n",
            "            Malbec       0.81      0.74      0.78      3026\n",
            "          Marsanne       0.69      0.46      0.55       105\n",
            "            Mencía       0.65      0.70      0.67       146\n",
            "            Merlot       0.85      0.64      0.73      4801\n",
            "        Monastrell       0.87      0.61      0.71       148\n",
            "     Montepulciano       0.94      0.88      0.91       272\n",
            "          Moscatel       0.87      0.57      0.69        35\n",
            "           Moscato       0.92      0.82      0.87       378\n",
            "          Muscadet       0.05      0.50      0.10         2\n",
            "       Muskateller       0.06      0.75      0.10         4\n",
            "          Nebbiolo       0.84      0.92      0.88      1414\n",
            " Nerello Mascalese       0.69      0.62      0.65        71\n",
            "      Petit Verdot       0.81      0.42      0.55       196\n",
            "      Petite Sirah       0.85      0.65      0.74       887\n",
            "           Picpoul       0.07      0.40      0.12         5\n",
            "      Pinot Grigio       0.89      0.65      0.75      1258\n",
            "        Pinot Gris       0.91      0.56      0.70      1252\n",
            "        Pinot Noir       0.78      0.93      0.84     13246\n",
            "          Pinotage       0.85      0.79      0.82       193\n",
            "              Port       0.82      0.82      0.82       743\n",
            "          Prosecco       0.93      0.90      0.91       515\n",
            "          Riesling       0.86      0.89      0.88      5029\n",
            "              Rosé       0.79      0.76      0.77      2416\n",
            "         Roussanne       0.79      0.44      0.57       182\n",
            "        Sagrantino       0.97      0.87      0.92        79\n",
            "        Sangiovese       0.88      0.75      0.81      2809\n",
            "   Sauvignon Blanc       0.82      0.84      0.83      5970\n",
            "           Schiava       0.25      0.57      0.35         7\n",
            "            Sherry       0.89      0.85      0.87        99\n",
            "            Shiraz       0.87      0.80      0.83      1841\n",
            "             Syrah       0.86      0.72      0.78      5492\n",
            "          Sémillon       0.99      0.41      0.58       214\n",
            "            Tannat       0.79      0.72      0.75        95\n",
            "       Tempranillo       0.79      0.70      0.75      2439\n",
            "         Torrontés       0.90      0.74      0.81       363\n",
            "  Touriga Nacional       0.77      0.73      0.75       155\n",
            "        Verdicchio       0.91      0.64      0.75        47\n",
            "        Vermentino       0.94      0.72      0.81       190\n",
            "          Viognier       0.84      0.64      0.72      1227\n",
            "         Zinfandel       0.86      0.82      0.84      3792\n",
            "          Zweigelt       0.91      0.77      0.83       199\n",
            "\n",
            "          accuracy                           0.81     93557\n",
            "         macro avg       0.77      0.68      0.70     93557\n",
            "      weighted avg       0.82      0.81      0.81     93557\n",
            "\n"
          ],
          "name": "stdout"
        }
      ]
    },
    {
      "cell_type": "code",
      "metadata": {
        "colab": {
          "base_uri": "https://localhost:8080/"
        },
        "id": "MfKoI4SOUyDf",
        "outputId": "6c946b8f-2dfa-4212-8c99-7d723b4ccf9e"
      },
      "source": [
        "metrics.confusion_matrix(data[\"label\"], predicted)"
      ],
      "execution_count": 35,
      "outputs": [
        {
          "output_type": "execute_result",
          "data": {
            "text/plain": [
              "array([[ 318,    0,    0, ...,    1,    0,    0],\n",
              "       [   0,  801,    0, ...,    1,   13,    0],\n",
              "       [   0,    0,  132, ...,    0,    0,    1],\n",
              "       ...,\n",
              "       [   1,    0,    0, ...,  783,    1,    0],\n",
              "       [   0,    5,    2, ...,    0, 3108,    0],\n",
              "       [   0,    0,    0, ...,    0,    0,  153]])"
            ]
          },
          "metadata": {
            "tags": []
          },
          "execution_count": 35
        }
      ]
    },
    {
      "cell_type": "code",
      "metadata": {
        "colab": {
          "base_uri": "https://localhost:8080/",
          "height": 299
        },
        "id": "EL9glZRdTJYB",
        "outputId": "64e4b283-c669-4175-9877-f7fd9982ed96"
      },
      "source": [
        "# confusion matrix suggestion from TA, will come back and fix the labels\r\n",
        "plot_confusion_matrix(text_clf, X_test, y_test)"
      ],
      "execution_count": 34,
      "outputs": [
        {
          "output_type": "execute_result",
          "data": {
            "text/plain": [
              "<sklearn.metrics._plot.confusion_matrix.ConfusionMatrixDisplay at 0x7f48e2c85eb8>"
            ]
          },
          "metadata": {
            "tags": []
          },
          "execution_count": 34
        },
        {
          "output_type": "display_data",
          "data": {
            "image/png": "[encoded data removed]",
            "text/plain": [
              "<Figure size 432x288 with 2 Axes>"
            ]
          },
          "metadata": {
            "tags": [],
            "needs_background": "light"
          }
        }
      ]
    },
    {
      "cell_type": "code",
      "metadata": {
        "id": "NR7z-pInVSaf"
      },
      "source": [
        "# (1e-2, 1e-3 is the same as .01 or .001)\r\n",
        "parameters = {\r\n",
        "    \"vect__ngram_range\": [(1,1), (1,2)],\r\n",
        "    \"tfidf__use_idf\" : (True, False),\r\n",
        "    \"clf__alpha\" : (1e-2, 1e-3),\r\n",
        "}\r\n",
        "# had issue with underscore"
      ],
      "execution_count": 44,
      "outputs": []
    },
    {
      "cell_type": "code",
      "metadata": {
        "id": "R20oQ-boS6B2"
      },
      "source": [
        "gs_clf = GridSearchCV(text_clf, parameters, cv=5, n_jobs=-1)"
      ],
      "execution_count": 45,
      "outputs": []
    },
    {
      "cell_type": "code",
      "metadata": {
        "colab": {
          "base_uri": "https://localhost:8080/"
        },
        "id": "5Pk4K8PvVyKO",
        "outputId": "06650666-678b-4445-f5bf-9148434ccc46"
      },
      "source": [
        "gs_clf = gs_clf.fit(data[\"text\"], data[\"label\"])"
      ],
      "execution_count": 46,
      "outputs": [
        {
          "output_type": "stream",
          "text": [
            "/usr/local/lib/python3.6/dist-packages/sklearn/model_selection/_split.py:667: UserWarning: The least populated class in y has only 2 members, which is less than n_splits=5.\n",
            "  % (min_groups, self.n_splits)), UserWarning)\n",
            "/usr/local/lib/python3.6/dist-packages/joblib/externals/loky/process_executor.py:691: UserWarning: A worker stopped while some jobs were given to the executor. This can be caused by a too short worker timeout or by a memory leak.\n",
            "  \"timeout or by a memory leak.\", UserWarning\n"
          ],
          "name": "stderr"
        }
      ]
    },
    {
      "cell_type": "markdown",
      "metadata": {
        "id": "QgjOjXgWZv58"
      },
      "source": [
        ""
      ]
    },
    {
      "cell_type": "code",
      "metadata": {
        "colab": {
          "base_uri": "https://localhost:8080/"
        },
        "id": "GNGze7HMV77R",
        "outputId": "8b85fd56-1dd5-47c9-a09e-4aa8d96a25bc"
      },
      "source": [
        "gs_clf.best_score_"
      ],
      "execution_count": 47,
      "outputs": [
        {
          "output_type": "execute_result",
          "data": {
            "text/plain": [
              "0.7469036493726533"
            ]
          },
          "metadata": {
            "tags": []
          },
          "execution_count": 47
        }
      ]
    },
    {
      "cell_type": "code",
      "metadata": {
        "colab": {
          "base_uri": "https://localhost:8080/"
        },
        "id": "2MVovDghZy5N",
        "outputId": "d6ae7a60-e6d9-48a9-f067-51af78bbc6ce"
      },
      "source": [
        "for param_name in sorted(parameters.keys()):\r\n",
        "    print(\"%s: %r\" % (param_name, gs_clf.best_params_[param_name]))"
      ],
      "execution_count": 49,
      "outputs": [
        {
          "output_type": "stream",
          "text": [
            "clf__alpha: 0.001\n",
            "tfidf__use_idf: True\n",
            "vect__ngram_range: (1, 2)\n"
          ],
          "name": "stdout"
        }
      ]
    },
    {
      "cell_type": "code",
      "metadata": {
        "id": "buSMCDmsaQFX"
      },
      "source": [
        ""
      ],
      "execution_count": null,
      "outputs": []
    }
  ]
}