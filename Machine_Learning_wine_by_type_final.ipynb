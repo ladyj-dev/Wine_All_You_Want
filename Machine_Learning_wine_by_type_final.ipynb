{
  "nbformat": 4,
  "nbformat_minor": 0,
  "metadata": {
    "colab": {
      "name": "Machine_Learning_wine_by_type_final.ipynb",
      "provenance": [],
      "collapsed_sections": [],
      "authorship_tag": "ABX9TyPLzjGfRt7HQ0CT0wrLQdeW",
      "include_colab_link": true
    },
    "kernelspec": {
      "name": "python3",
      "display_name": "Python 3"
    }
  },
  "cells": [
    {
      "cell_type": "markdown",
      "metadata": {
        "id": "view-in-github",
        "colab_type": "text"
      },
      "source": [
        "<a href=\"https://colab.research.google.com/github/ladyj-dev/Wine_All_You_Want/blob/main/Machine_Learning_wine_by_type_final.ipynb\" target=\"_parent\"><img src=\"https://colab.research.google.com/assets/colab-badge.svg\" alt=\"Open In Colab\"/></a>"
      ]
    },
    {
      "cell_type": "code",
      "metadata": {
        "id": "pEtEAnZTKnP_"
      },
      "source": [
        "# import dependencies\r\n",
        "import pandas as pd\r\n",
        "import numpy as np\r\n",
        "import matplotlib.pyplot as plt\r\n",
        "\r\n",
        "from sklearn.model_selection import train_test_split\r\n",
        "from sklearn.feature_extraction.text import TfidfTransformer\r\n",
        "from sklearn.feature_extraction.text import CountVectorizer\r\n",
        "from sklearn.naive_bayes import MultinomialNB\r\n",
        "from sklearn.pipeline import Pipeline\r\n",
        "from sklearn.linear_model import SGDClassifier\r\n",
        "from sklearn import metrics\r\n",
        "from sklearn.metrics import plot_confusion_matrix\r\n",
        "from sklearn.model_selection import GridSearchCV"
      ],
      "execution_count": 1,
      "outputs": []
    },
    {
      "cell_type": "code",
      "metadata": {
        "colab": {
          "base_uri": "https://localhost:8080/"
        },
        "id": "rVtaviHQFTTX",
        "outputId": "9305c8dd-f971-463d-d86b-e321c508ac03"
      },
      "source": [
        "# Pull in csv file from AWS S3 bucket\r\n",
        "url = \"https://winedata150k.s3.us-east-2.amazonaws.com/data_cleaning/wine_matched_final.csv\"\r\n",
        "df = pd.read_csv(url)\r\n",
        "df.info()"
      ],
      "execution_count": 2,
      "outputs": [
        {
          "output_type": "stream",
          "text": [
            "<class 'pandas.core.frame.DataFrame'>\n",
            "RangeIndex: 93557 entries, 0 to 93556\n",
            "Data columns (total 13 columns):\n",
            " #   Column               Non-Null Count  Dtype  \n",
            "---  ------               --------------  -----  \n",
            " 0   contry               0 non-null      float64\n",
            " 1   province             93557 non-null  object \n",
            " 2   region_1             93557 non-null  object \n",
            " 3   winery               93557 non-null  object \n",
            " 4   wine_type            93557 non-null  object \n",
            " 5   wine_style           93557 non-null  object \n",
            " 6   variety              93557 non-null  object \n",
            " 7   wine_name            93557 non-null  object \n",
            " 8   points               93557 non-null  int64  \n",
            " 9   price                93557 non-null  float64\n",
            " 10  earned_points        93557 non-null  int64  \n",
            " 11  earned_points_per_$  93557 non-null  float64\n",
            " 12  description          93557 non-null  object \n",
            "dtypes: float64(3), int64(2), object(8)\n",
            "memory usage: 9.3+ MB\n"
          ],
          "name": "stdout"
        }
      ]
    },
    {
      "cell_type": "markdown",
      "metadata": {
        "id": "gsht65cNKeQm"
      },
      "source": [
        "Pre-processing to ready data for ML models."
      ]
    },
    {
      "cell_type": "code",
      "metadata": {
        "colab": {
          "base_uri": "https://localhost:8080/"
        },
        "id": "IQPRZACQGTNw",
        "outputId": "c1012f1e-f2eb-42f4-c213-d1b198830e5c"
      },
      "source": [
        "# reduce the df to only wine_type & description to serve as label and text\r\n",
        "column_names = [\"wine_type\", \"description\"]\r\n",
        "df = df.reindex(columns=column_names)\r\n",
        "df.info()"
      ],
      "execution_count": 3,
      "outputs": [
        {
          "output_type": "stream",
          "text": [
            "<class 'pandas.core.frame.DataFrame'>\n",
            "RangeIndex: 93557 entries, 0 to 93556\n",
            "Data columns (total 2 columns):\n",
            " #   Column       Non-Null Count  Dtype \n",
            "---  ------       --------------  ----- \n",
            " 0   wine_type    93557 non-null  object\n",
            " 1   description  93557 non-null  object\n",
            "dtypes: object(2)\n",
            "memory usage: 1.4+ MB\n"
          ],
          "name": "stdout"
        }
      ]
    },
    {
      "cell_type": "code",
      "metadata": {
        "colab": {
          "base_uri": "https://localhost:8080/"
        },
        "id": "D1Iu2CiBGnhM",
        "outputId": "4af8550f-b417-4178-9913-d48924bc7427"
      },
      "source": [
        "# rename wine type to label and description to text for ML \r\n",
        "df.rename(columns={\"wine_type\": \"label\", \"description\": \"text\"}, inplace=True)\r\n",
        "data = df\r\n",
        "data.info()"
      ],
      "execution_count": 4,
      "outputs": [
        {
          "output_type": "stream",
          "text": [
            "<class 'pandas.core.frame.DataFrame'>\n",
            "RangeIndex: 93557 entries, 0 to 93556\n",
            "Data columns (total 2 columns):\n",
            " #   Column  Non-Null Count  Dtype \n",
            "---  ------  --------------  ----- \n",
            " 0   label   93557 non-null  object\n",
            " 1   text    93557 non-null  object\n",
            "dtypes: object(2)\n",
            "memory usage: 1.4+ MB\n"
          ],
          "name": "stdout"
        }
      ]
    },
    {
      "cell_type": "code",
      "metadata": {
        "colab": {
          "base_uri": "https://localhost:8080/"
        },
        "id": "PWkQsLK4HA-F",
        "outputId": "99d27269-2b9d-4408-97d5-8f124a607d6b"
      },
      "source": [
        "# how many wine_type are in df\r\n",
        "data[\"label\"].value_counts()"
      ],
      "execution_count": 5,
      "outputs": [
        {
          "output_type": "execute_result",
          "data": {
            "text/plain": [
              "Red_wine      56925\n",
              "White_wine    32859\n",
              "Other_wine     3773\n",
              "Name: label, dtype: int64"
            ]
          },
          "metadata": {
            "tags": []
          },
          "execution_count": 5
        }
      ]
    },
    {
      "cell_type": "code",
      "metadata": {
        "colab": {
          "base_uri": "https://localhost:8080/"
        },
        "id": "Qq839YKkHSeq",
        "outputId": "cd1830e7-5aff-45ee-acca-a6f1ba7393bc"
      },
      "source": [
        "data[\"text\"].head()"
      ],
      "execution_count": 6,
      "outputs": [
        {
          "output_type": "execute_result",
          "data": {
            "text/plain": [
              "0    Mac Watson honors the memory of a wine once ma...\n",
              "1    This spent 20 months in 30% new French oak, an...\n",
              "2    This re-named vineyard was formerly bottled as...\n",
              "3    The producer sources from two blocks of the vi...\n",
              "4    From 18-year-old vines, this supple well-balan...\n",
              "Name: text, dtype: object"
            ]
          },
          "metadata": {
            "tags": []
          },
          "execution_count": 6
        }
      ]
    },
    {
      "cell_type": "markdown",
      "metadata": {
        "id": "anReA_1mHkZm"
      },
      "source": [
        "Ready to drill into the data by using train and test to divide it."
      ]
    },
    {
      "cell_type": "code",
      "metadata": {
        "id": "l4LVXtm4HiZc"
      },
      "source": [
        "X = data[\"text\"]\r\n",
        "y = data[\"label\"]\r\n",
        "\r\n",
        "X_train, X_test, y_train, y_test = train_test_split(X, y, random_state=42)"
      ],
      "execution_count": 7,
      "outputs": []
    },
    {
      "cell_type": "markdown",
      "metadata": {
        "id": "1sZdQbbKIJUe"
      },
      "source": [
        "Tokenize text using the bag of words technique to extract features"
      ]
    },
    {
      "cell_type": "code",
      "metadata": {
        "colab": {
          "base_uri": "https://localhost:8080/"
        },
        "id": "XpiSgraWIImq",
        "outputId": "c0f64f46-c26f-4fef-880e-fe0c75d67897"
      },
      "source": [
        "count_vect = CountVectorizer()\r\n",
        "count_vect"
      ],
      "execution_count": 8,
      "outputs": [
        {
          "output_type": "execute_result",
          "data": {
            "text/plain": [
              "CountVectorizer(analyzer='word', binary=False, decode_error='strict',\n",
              "                dtype=<class 'numpy.int64'>, encoding='utf-8', input='content',\n",
              "                lowercase=True, max_df=1.0, max_features=None, min_df=1,\n",
              "                ngram_range=(1, 1), preprocessor=None, stop_words=None,\n",
              "                strip_accents=None, token_pattern='(?u)\\\\b\\\\w\\\\w+\\\\b',\n",
              "                tokenizer=None, vocabulary=None)"
            ]
          },
          "metadata": {
            "tags": []
          },
          "execution_count": 8
        }
      ]
    },
    {
      "cell_type": "code",
      "metadata": {
        "colab": {
          "base_uri": "https://localhost:8080/"
        },
        "id": "p_nrflWzIiOp",
        "outputId": "2e0d0fd9-ba04-4c43-c080-b05ff747ebbb"
      },
      "source": [
        "# create bag of words for training data \r\n",
        "X_train_counts = count_vect.fit_transform(X_train)\r\n",
        "X_train_counts.shape"
      ],
      "execution_count": 9,
      "outputs": [
        {
          "output_type": "execute_result",
          "data": {
            "text/plain": [
              "(70167, 22291)"
            ]
          },
          "metadata": {
            "tags": []
          },
          "execution_count": 9
        }
      ]
    },
    {
      "cell_type": "code",
      "metadata": {
        "id": "39DJvh5wL8iM"
      },
      "source": [
        "# CountVectorizer supports counts of consecutive words. Once fitted the vectorizer builds a dict of feature indices\r\n",
        "count_vect.vocabulary_.get(u\"algorithm\")"
      ],
      "execution_count": 10,
      "outputs": []
    },
    {
      "cell_type": "code",
      "metadata": {
        "colab": {
          "base_uri": "https://localhost:8080/"
        },
        "id": "F7bc5pWVMNkw",
        "outputId": "981fc721-4674-41b8-8961-184588bc388d"
      },
      "source": [
        "# calculate TF & TF-IDF \r\n",
        "tfidf_transformer = TfidfTransformer(use_idf=False)\r\n",
        "X_train_tfidf = tfidf_transformer.fit_transform(X_train_counts)\r\n",
        "X_train_tfidf.shape"
      ],
      "execution_count": 11,
      "outputs": [
        {
          "output_type": "execute_result",
          "data": {
            "text/plain": [
              "(70167, 22291)"
            ]
          },
          "metadata": {
            "tags": []
          },
          "execution_count": 11
        }
      ]
    },
    {
      "cell_type": "markdown",
      "metadata": {
        "id": "knpvVp0pMvWE"
      },
      "source": [
        "Notice the output above is the dimension of the Document-Term matrix and the same shape as our X_train_counts shape."
      ]
    },
    {
      "cell_type": "markdown",
      "metadata": {
        "id": "oiohtnsPNSfz"
      },
      "source": [
        "Using Naive Bayes Classifier - most common for word counts"
      ]
    },
    {
      "cell_type": "code",
      "metadata": {
        "id": "DrbqawnENPlz"
      },
      "source": [
        "clf = MultinomialNB().fit(X_train_tfidf, y_train)"
      ],
      "execution_count": 12,
      "outputs": []
    },
    {
      "cell_type": "code",
      "metadata": {
        "colab": {
          "base_uri": "https://localhost:8080/"
        },
        "id": "RNQM7DijNoI3",
        "outputId": "84143acb-2f97-49eb-cfe6-1bd889b91ee0"
      },
      "source": [
        "# select text from a row of X_test\r\n",
        "new_wine_description = [X_test.iloc[0]]\r\n",
        "\r\n",
        "new_wine_description"
      ],
      "execution_count": 13,
      "outputs": [
        {
          "output_type": "execute_result",
          "data": {
            "text/plain": [
              "['While there are plenty of firm tannins and weight here, the wine does feel somewhat hollow. The red fruits are there, showing slowly against the tannins. It has fine final acidity, but not the power and concentration you should expect.']"
            ]
          },
          "metadata": {
            "tags": []
          },
          "execution_count": 13
        }
      ]
    },
    {
      "cell_type": "markdown",
      "metadata": {
        "id": "nBMP0KvBOPMr"
      },
      "source": [
        "Test time!"
      ]
    },
    {
      "cell_type": "code",
      "metadata": {
        "colab": {
          "base_uri": "https://localhost:8080/",
          "height": 35
        },
        "id": "U3OiQJV4OFUw",
        "outputId": "5009947e-9861-4d07-db1b-995745d5b65a"
      },
      "source": [
        "y_test.iloc[0]"
      ],
      "execution_count": 14,
      "outputs": [
        {
          "output_type": "execute_result",
          "data": {
            "application/vnd.google.colaboratory.intrinsic+json": {
              "type": "string"
            },
            "text/plain": [
              "'Red_wine'"
            ]
          },
          "metadata": {
            "tags": []
          },
          "execution_count": 14
        }
      ]
    },
    {
      "cell_type": "markdown",
      "metadata": {
        "id": "tRy3uTlAOX-b"
      },
      "source": [
        "It worked, it really worked! Baby steps we have a long way to go. Now to building a pipeline."
      ]
    },
    {
      "cell_type": "code",
      "metadata": {
        "id": "4RE-GBIzOZtL"
      },
      "source": [
        "text_clf = Pipeline([\r\n",
        "      (\"vect\", CountVectorizer()),\r\n",
        "      (\"tfidf\", TfidfTransformer()),\r\n",
        "      (\"clf\", MultinomialNB()),\r\n",
        "])"
      ],
      "execution_count": 15,
      "outputs": []
    },
    {
      "cell_type": "code",
      "metadata": {
        "colab": {
          "base_uri": "https://localhost:8080/"
        },
        "id": "n0iH6hTNOVjR",
        "outputId": "bcc5354d-95e5-4302-ab4c-b52d96b7ab44"
      },
      "source": [
        "text_clf.fit(X_train, y_train)"
      ],
      "execution_count": 16,
      "outputs": [
        {
          "output_type": "execute_result",
          "data": {
            "text/plain": [
              "Pipeline(memory=None,\n",
              "         steps=[('vect',\n",
              "                 CountVectorizer(analyzer='word', binary=False,\n",
              "                                 decode_error='strict',\n",
              "                                 dtype=<class 'numpy.int64'>, encoding='utf-8',\n",
              "                                 input='content', lowercase=True, max_df=1.0,\n",
              "                                 max_features=None, min_df=1,\n",
              "                                 ngram_range=(1, 1), preprocessor=None,\n",
              "                                 stop_words=None, strip_accents=None,\n",
              "                                 token_pattern='(?u)\\\\b\\\\w\\\\w+\\\\b',\n",
              "                                 tokenizer=None, vocabulary=None)),\n",
              "                ('tfidf',\n",
              "                 TfidfTransformer(norm='l2', smooth_idf=True,\n",
              "                                  sublinear_tf=False, use_idf=True)),\n",
              "                ('clf',\n",
              "                 MultinomialNB(alpha=1.0, class_prior=None, fit_prior=True))],\n",
              "         verbose=False)"
            ]
          },
          "metadata": {
            "tags": []
          },
          "execution_count": 16
        }
      ]
    },
    {
      "cell_type": "code",
      "metadata": {
        "colab": {
          "base_uri": "https://localhost:8080/"
        },
        "id": "SgRa6X-qPB1H",
        "outputId": "ec3292de-efcf-4354-d546-e01eba3daf0c"
      },
      "source": [
        "docs_test = data[\"text\"]\r\n",
        "predicted = text_clf.predict(docs_test)\r\n",
        "np.mean(predicted == data[\"label\"])"
      ],
      "execution_count": 17,
      "outputs": [
        {
          "output_type": "execute_result",
          "data": {
            "text/plain": [
              "0.9452846927541498"
            ]
          },
          "metadata": {
            "tags": []
          },
          "execution_count": 17
        }
      ]
    },
    {
      "cell_type": "markdown",
      "metadata": {
        "id": "BfAPJ-nYQ9ZS"
      },
      "source": [
        "Use Support Vector Machine (SGD) for next test."
      ]
    },
    {
      "cell_type": "code",
      "metadata": {
        "colab": {
          "base_uri": "https://localhost:8080/"
        },
        "id": "Q2WPO5IwQIJE",
        "outputId": "09129746-ff46-4cb8-cb45-7390cdb53539"
      },
      "source": [
        "text_clf = Pipeline ([\r\n",
        "    (\"vect\", CountVectorizer()),\r\n",
        "    (\"tfidf\", TfidfTransformer()),\r\n",
        "    (\"clf\", SGDClassifier())\r\n",
        "])\r\n",
        "text_clf.fit(data[\"text\"], data[\"label\"])"
      ],
      "execution_count": 18,
      "outputs": [
        {
          "output_type": "execute_result",
          "data": {
            "text/plain": [
              "Pipeline(memory=None,\n",
              "         steps=[('vect',\n",
              "                 CountVectorizer(analyzer='word', binary=False,\n",
              "                                 decode_error='strict',\n",
              "                                 dtype=<class 'numpy.int64'>, encoding='utf-8',\n",
              "                                 input='content', lowercase=True, max_df=1.0,\n",
              "                                 max_features=None, min_df=1,\n",
              "                                 ngram_range=(1, 1), preprocessor=None,\n",
              "                                 stop_words=None, strip_accents=None,\n",
              "                                 token_pattern='(?u)\\\\b\\\\w\\\\w+\\\\b',\n",
              "                                 tokenizer=None, vocabulary=Non...\n",
              "                 SGDClassifier(alpha=0.0001, average=False, class_weight=None,\n",
              "                               early_stopping=False, epsilon=0.1, eta0=0.0,\n",
              "                               fit_intercept=True, l1_ratio=0.15,\n",
              "                               learning_rate='optimal', loss='hinge',\n",
              "                               max_iter=1000, n_iter_no_change=5, n_jobs=None,\n",
              "                               penalty='l2', power_t=0.5, random_state=None,\n",
              "                               shuffle=True, tol=0.001, validation_fraction=0.1,\n",
              "                               verbose=0, warm_start=False))],\n",
              "         verbose=False)"
            ]
          },
          "metadata": {
            "tags": []
          },
          "execution_count": 18
        }
      ]
    },
    {
      "cell_type": "markdown",
      "metadata": {
        "id": "jcWhz9TARL_T"
      },
      "source": [
        "I dont see the second step, will do further exploration on that and revisit."
      ]
    },
    {
      "cell_type": "code",
      "metadata": {
        "colab": {
          "base_uri": "https://localhost:8080/"
        },
        "id": "K0EE08UeSOjA",
        "outputId": "4c971e05-0e10-4d8c-8c5e-30c6f1b8e424"
      },
      "source": [
        "predicted = text_clf.predict(data[\"text\"])\r\n",
        "np.mean(predicted == data[\"label\"])"
      ],
      "execution_count": 19,
      "outputs": [
        {
          "output_type": "execute_result",
          "data": {
            "text/plain": [
              "0.9659886486313156"
            ]
          },
          "metadata": {
            "tags": []
          },
          "execution_count": 19
        }
      ]
    },
    {
      "cell_type": "code",
      "metadata": {
        "colab": {
          "base_uri": "https://localhost:8080/"
        },
        "id": "2gW7l11dSv3g",
        "outputId": "575e2a8a-cd8b-4742-bb9f-48912c00b528"
      },
      "source": [
        "# Scikit-learn analysis of results\r\n",
        "print(metrics.classification_report(data[\"label\"], predicted))"
      ],
      "execution_count": 20,
      "outputs": [
        {
          "output_type": "stream",
          "text": [
            "              precision    recall  f1-score   support\n",
            "\n",
            "  Other_wine       0.86      0.41      0.56      3773\n",
            "    Red_wine       0.97      0.99      0.98     56925\n",
            "  White_wine       0.97      0.99      0.98     32859\n",
            "\n",
            "    accuracy                           0.97     93557\n",
            "   macro avg       0.93      0.80      0.84     93557\n",
            "weighted avg       0.96      0.97      0.96     93557\n",
            "\n"
          ],
          "name": "stdout"
        }
      ]
    },
    {
      "cell_type": "code",
      "metadata": {
        "colab": {
          "base_uri": "https://localhost:8080/"
        },
        "id": "MfKoI4SOUyDf",
        "outputId": "8a98864b-2fcb-414a-e6a7-3d972bc2f439"
      },
      "source": [
        "metrics.confusion_matrix(data[\"label\"], predicted)"
      ],
      "execution_count": 21,
      "outputs": [
        {
          "output_type": "execute_result",
          "data": {
            "text/plain": [
              "array([[ 1553,  1439,   781],\n",
              "       [  235, 56371,   319],\n",
              "       [   24,   384, 32451]])"
            ]
          },
          "metadata": {
            "tags": []
          },
          "execution_count": 21
        }
      ]
    },
    {
      "cell_type": "code",
      "metadata": {
        "colab": {
          "base_uri": "https://localhost:8080/",
          "height": 300
        },
        "id": "EL9glZRdTJYB",
        "outputId": "b53a776d-edfb-4796-8ce6-6ca66963bc5a"
      },
      "source": [
        "# confusion matrix suggestion from TA, will come back and fix the labels\r\n",
        "plot_confusion_matrix(text_clf, X_test, y_test)"
      ],
      "execution_count": 22,
      "outputs": [
        {
          "output_type": "execute_result",
          "data": {
            "text/plain": [
              "<sklearn.metrics._plot.confusion_matrix.ConfusionMatrixDisplay at 0x7f72e39ff1d0>"
            ]
          },
          "metadata": {
            "tags": []
          },
          "execution_count": 22
        },
        {
          "output_type": "display_data",
          "data": {
            "image/png": "[encoded data removed]",
            "text/plain": [
              "<Figure size 432x288 with 2 Axes>"
            ]
          },
          "metadata": {
            "tags": [],
            "needs_background": "light"
          }
        }
      ]
    },
    {
      "cell_type": "code",
      "metadata": {
        "id": "NR7z-pInVSaf"
      },
      "source": [
        "# (1e-2, 1e-3 is the same as .01 or .001)\r\n",
        "parameters = {\r\n",
        "    \"vect__ngram_range\": [(1,1), (1,2)],\r\n",
        "    \"tfidf__use_idf\" : (True, False),\r\n",
        "    \"clf__alpha\" : (1e-2, 1e-3),\r\n",
        "}\r\n",
        "# had issue with underscore"
      ],
      "execution_count": 23,
      "outputs": []
    },
    {
      "cell_type": "code",
      "metadata": {
        "id": "R20oQ-boS6B2"
      },
      "source": [
        "gs_clf = GridSearchCV(text_clf, parameters, cv=5, n_jobs=-1)"
      ],
      "execution_count": 24,
      "outputs": []
    },
    {
      "cell_type": "code",
      "metadata": {
        "id": "5Pk4K8PvVyKO"
      },
      "source": [
        "gs_clf = gs_clf.fit(data[\"text\"], data[\"label\"])"
      ],
      "execution_count": 25,
      "outputs": []
    },
    {
      "cell_type": "markdown",
      "metadata": {
        "id": "QgjOjXgWZv58"
      },
      "source": [
        ""
      ]
    },
    {
      "cell_type": "code",
      "metadata": {
        "colab": {
          "base_uri": "https://localhost:8080/"
        },
        "id": "GNGze7HMV77R",
        "outputId": "014c2270-d9ee-49f5-cae1-0da0544b5e76"
      },
      "source": [
        "gs_clf.best_score_"
      ],
      "execution_count": 26,
      "outputs": [
        {
          "output_type": "execute_result",
          "data": {
            "text/plain": [
              "0.9383797506452012"
            ]
          },
          "metadata": {
            "tags": []
          },
          "execution_count": 26
        }
      ]
    },
    {
      "cell_type": "code",
      "metadata": {
        "colab": {
          "base_uri": "https://localhost:8080/"
        },
        "id": "2MVovDghZy5N",
        "outputId": "3e39f15b-4483-4896-a7b6-64057e790fbe"
      },
      "source": [
        "for param_name in sorted(parameters.keys()):\r\n",
        "    print(\"%s: %r\" % (param_name, gs_clf.best_params_[param_name]))"
      ],
      "execution_count": 27,
      "outputs": [
        {
          "output_type": "stream",
          "text": [
            "clf__alpha: 0.001\n",
            "tfidf__use_idf: True\n",
            "vect__ngram_range: (1, 1)\n"
          ],
          "name": "stdout"
        }
      ]
    },
    {
      "cell_type": "code",
      "metadata": {
        "colab": {
          "base_uri": "https://localhost:8080/"
        },
        "id": "buSMCDmsaQFX",
        "outputId": "d9563152-9b38-4d77-d628-19d128fd7f98"
      },
      "source": [
        "gs_clf.cv_results_"
      ],
      "execution_count": 28,
      "outputs": [
        {
          "output_type": "execute_result",
          "data": {
            "text/plain": [
              "{'mean_fit_time': array([ 5.21578035, 13.91382113,  5.03223257, 13.17893696,  5.1432436 ,\n",
              "        14.1277389 ,  4.99147129, 12.48401566]),\n",
              " 'mean_score_time': array([1.2090867 , 2.63503413, 1.13928404, 2.43583231, 1.15907216,\n",
              "        2.57718487, 1.10888939, 2.23432121]),\n",
              " 'mean_test_score': array([0.61793341, 0.6084526 , 0.63549488, 0.60905116, 0.93837975,\n",
              "        0.89878882, 0.93747123, 0.93192381]),\n",
              " 'param_clf__alpha': masked_array(data=[0.01, 0.01, 0.01, 0.01, 0.001, 0.001, 0.001, 0.001],\n",
              "              mask=[False, False, False, False, False, False, False, False],\n",
              "        fill_value='?',\n",
              "             dtype=object),\n",
              " 'param_tfidf__use_idf': masked_array(data=[True, True, False, False, True, True, False, False],\n",
              "              mask=[False, False, False, False, False, False, False, False],\n",
              "        fill_value='?',\n",
              "             dtype=object),\n",
              " 'param_vect__ngram_range': masked_array(data=[(1, 1), (1, 2), (1, 1), (1, 2), (1, 1), (1, 2), (1, 1),\n",
              "                    (1, 2)],\n",
              "              mask=[False, False, False, False, False, False, False, False],\n",
              "        fill_value='?',\n",
              "             dtype=object),\n",
              " 'params': [{'clf__alpha': 0.01,\n",
              "   'tfidf__use_idf': True,\n",
              "   'vect__ngram_range': (1, 1)},\n",
              "  {'clf__alpha': 0.01, 'tfidf__use_idf': True, 'vect__ngram_range': (1, 2)},\n",
              "  {'clf__alpha': 0.01, 'tfidf__use_idf': False, 'vect__ngram_range': (1, 1)},\n",
              "  {'clf__alpha': 0.01, 'tfidf__use_idf': False, 'vect__ngram_range': (1, 2)},\n",
              "  {'clf__alpha': 0.001, 'tfidf__use_idf': True, 'vect__ngram_range': (1, 1)},\n",
              "  {'clf__alpha': 0.001, 'tfidf__use_idf': True, 'vect__ngram_range': (1, 2)},\n",
              "  {'clf__alpha': 0.001, 'tfidf__use_idf': False, 'vect__ngram_range': (1, 1)},\n",
              "  {'clf__alpha': 0.001, 'tfidf__use_idf': False, 'vect__ngram_range': (1, 2)}],\n",
              " 'rank_test_score': array([6, 8, 5, 7, 1, 4, 2, 3], dtype=int32),\n",
              " 'split0_test_score': array([0.61960239, 0.60843309, 0.63862762, 0.60960881, 0.94003848,\n",
              "        0.90637024, 0.93896965, 0.93175502]),\n",
              " 'split1_test_score': array([0.62067123, 0.60843309, 0.63803976, 0.60896751, 0.94238991,\n",
              "        0.90583583, 0.93971783, 0.93592347]),\n",
              " 'split2_test_score': array([0.61771151, 0.60846561, 0.63673775, 0.60900005, 0.93950083,\n",
              "        0.90086046, 0.93885949, 0.93372882]),\n",
              " 'split3_test_score': array([0.61674951, 0.60846561, 0.63390519, 0.60878628, 0.93789749,\n",
              "        0.89257656, 0.93763027, 0.93191171]),\n",
              " 'split4_test_score': array([0.61493239, 0.60846561, 0.63016407, 0.60889316, 0.93207204,\n",
              "        0.888301  , 0.93217893, 0.92630004]),\n",
              " 'std_fit_time': array([0.07453485, 0.087469  , 0.13233258, 0.08626019, 0.07178315,\n",
              "        0.12678022, 0.12590737, 1.04564884]),\n",
              " 'std_score_time': array([0.0314862 , 0.11608994, 0.05034154, 0.17653351, 0.07147227,\n",
              "        0.13461774, 0.0896167 , 0.35877438]),\n",
              " 'std_test_score': array([2.03657191e-03, 1.59302081e-05, 3.12345293e-03, 2.88342304e-04,\n",
              "        3.46725589e-03, 7.21133190e-03, 2.72959482e-03, 3.19095022e-03])}"
            ]
          },
          "metadata": {
            "tags": []
          },
          "execution_count": 28
        }
      ]
    },
    {
      "cell_type": "code",
      "metadata": {
        "id": "CYykqbiBc2N3"
      },
      "source": [
        ""
      ],
      "execution_count": 28,
      "outputs": []
    }
  ]
}