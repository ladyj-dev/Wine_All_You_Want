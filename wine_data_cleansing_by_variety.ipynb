{
  "nbformat": 4,
  "nbformat_minor": 0,
  "metadata": {
    "colab": {
      "name": "wine_data_cleansing_by_variety.ipynb",
      "provenance": [],
      "collapsed_sections": [],
      "include_colab_link": true
    },
    "kernelspec": {
      "name": "python3",
      "display_name": "Python 3"
    }
  },
  "cells": [
    {
      "cell_type": "markdown",
      "metadata": {
        "id": "view-in-github",
        "colab_type": "text"
      },
      "source": [
        "<a href=\"https://colab.research.google.com/github/ladyj-dev/Wine_All_You_Want/blob/main/wine_data_cleansing_by_variety.ipynb\" target=\"_parent\"><img src=\"https://colab.research.google.com/assets/colab-badge.svg\" alt=\"Open In Colab\"/></a>"
      ]
    },
    {
      "cell_type": "markdown",
      "metadata": {
        "id": "9L-cdW-F9xYL"
      },
      "source": [
        "Data cleansing to view shape, features, data types, drop null/missing values and duplicates. Adding columns and prepping for ML."
      ]
    },
    {
      "cell_type": "code",
      "metadata": {
        "id": "vkBf7OmU81RL"
      },
      "source": [
        "#import dependencies\r\n",
        "import pandas as pd\r\n",
        "import numpy as np\r\n",
        "import matplotlib.pyplot as plt"
      ],
      "execution_count": 1,
      "outputs": []
    },
    {
      "cell_type": "code",
      "metadata": {
        "id": "gSVmHuKL-TLI"
      },
      "source": [
        "# bring in csv from AWS bucket(url)\r\n",
        "url = \"https://winedata150k.s3.us-east-2.amazonaws.com/winemag-data_first150k.csv\"\r\n"
      ],
      "execution_count": 2,
      "outputs": []
    },
    {
      "cell_type": "code",
      "metadata": {
        "colab": {
          "base_uri": "https://localhost:8080/",
          "height": 296
        },
        "id": "xjDuZpFqAkZn",
        "outputId": "32aeecab-c9ab-4da0-e1ea-32670470c3e9"
      },
      "source": [
        "# create pd dataframe\r\n",
        "wine_all_you_want_df = pd.read_csv(url)\r\n",
        "wine_all_you_want_df.head()"
      ],
      "execution_count": 3,
      "outputs": [
        {
          "output_type": "execute_result",
          "data": {
            "text/html": [
              "<div>\n",
              "<style scoped>\n",
              "    .dataframe tbody tr th:only-of-type {\n",
              "        vertical-align: middle;\n",
              "    }\n",
              "\n",
              "    .dataframe tbody tr th {\n",
              "        vertical-align: top;\n",
              "    }\n",
              "\n",
              "    .dataframe thead th {\n",
              "        text-align: right;\n",
              "    }\n",
              "</style>\n",
              "<table border=\"1\" class=\"dataframe\">\n",
              "  <thead>\n",
              "    <tr style=\"text-align: right;\">\n",
              "      <th></th>\n",
              "      <th>Unnamed: 0</th>\n",
              "      <th>country</th>\n",
              "      <th>description</th>\n",
              "      <th>designation</th>\n",
              "      <th>points</th>\n",
              "      <th>price</th>\n",
              "      <th>province</th>\n",
              "      <th>region_1</th>\n",
              "      <th>region_2</th>\n",
              "      <th>variety</th>\n",
              "      <th>winery</th>\n",
              "    </tr>\n",
              "  </thead>\n",
              "  <tbody>\n",
              "    <tr>\n",
              "      <th>0</th>\n",
              "      <td>0</td>\n",
              "      <td>US</td>\n",
              "      <td>This tremendous 100% varietal wine hails from ...</td>\n",
              "      <td>Martha's Vineyard</td>\n",
              "      <td>96</td>\n",
              "      <td>235.0</td>\n",
              "      <td>California</td>\n",
              "      <td>Napa Valley</td>\n",
              "      <td>Napa</td>\n",
              "      <td>Cabernet Sauvignon</td>\n",
              "      <td>Heitz</td>\n",
              "    </tr>\n",
              "    <tr>\n",
              "      <th>1</th>\n",
              "      <td>1</td>\n",
              "      <td>Spain</td>\n",
              "      <td>Ripe aromas of fig, blackberry and cassis are ...</td>\n",
              "      <td>Carodorum Selección Especial Reserva</td>\n",
              "      <td>96</td>\n",
              "      <td>110.0</td>\n",
              "      <td>Northern Spain</td>\n",
              "      <td>Toro</td>\n",
              "      <td>NaN</td>\n",
              "      <td>Tinta de Toro</td>\n",
              "      <td>Bodega Carmen Rodríguez</td>\n",
              "    </tr>\n",
              "    <tr>\n",
              "      <th>2</th>\n",
              "      <td>2</td>\n",
              "      <td>US</td>\n",
              "      <td>Mac Watson honors the memory of a wine once ma...</td>\n",
              "      <td>Special Selected Late Harvest</td>\n",
              "      <td>96</td>\n",
              "      <td>90.0</td>\n",
              "      <td>California</td>\n",
              "      <td>Knights Valley</td>\n",
              "      <td>Sonoma</td>\n",
              "      <td>Sauvignon Blanc</td>\n",
              "      <td>Macauley</td>\n",
              "    </tr>\n",
              "    <tr>\n",
              "      <th>3</th>\n",
              "      <td>3</td>\n",
              "      <td>US</td>\n",
              "      <td>This spent 20 months in 30% new French oak, an...</td>\n",
              "      <td>Reserve</td>\n",
              "      <td>96</td>\n",
              "      <td>65.0</td>\n",
              "      <td>Oregon</td>\n",
              "      <td>Willamette Valley</td>\n",
              "      <td>Willamette Valley</td>\n",
              "      <td>Pinot Noir</td>\n",
              "      <td>Ponzi</td>\n",
              "    </tr>\n",
              "    <tr>\n",
              "      <th>4</th>\n",
              "      <td>4</td>\n",
              "      <td>France</td>\n",
              "      <td>This is the top wine from La Bégude, named aft...</td>\n",
              "      <td>La Brûlade</td>\n",
              "      <td>95</td>\n",
              "      <td>66.0</td>\n",
              "      <td>Provence</td>\n",
              "      <td>Bandol</td>\n",
              "      <td>NaN</td>\n",
              "      <td>Provence red blend</td>\n",
              "      <td>Domaine de la Bégude</td>\n",
              "    </tr>\n",
              "  </tbody>\n",
              "</table>\n",
              "</div>"
            ],
            "text/plain": [
              "   Unnamed: 0 country  ...             variety                   winery\n",
              "0           0      US  ...  Cabernet Sauvignon                    Heitz\n",
              "1           1   Spain  ...       Tinta de Toro  Bodega Carmen Rodríguez\n",
              "2           2      US  ...     Sauvignon Blanc                 Macauley\n",
              "3           3      US  ...          Pinot Noir                    Ponzi\n",
              "4           4  France  ...  Provence red blend     Domaine de la Bégude\n",
              "\n",
              "[5 rows x 11 columns]"
            ]
          },
          "metadata": {
            "tags": []
          },
          "execution_count": 3
        }
      ]
    },
    {
      "cell_type": "code",
      "metadata": {
        "colab": {
          "base_uri": "https://localhost:8080/"
        },
        "id": "05earXSjCW_b",
        "outputId": "d4ada60f-00e3-4473-cee6-6ca2551e4601"
      },
      "source": [
        "# view shape of data(# of columns and rows)\r\n",
        "wine_all_you_want_df.shape"
      ],
      "execution_count": 4,
      "outputs": [
        {
          "output_type": "execute_result",
          "data": {
            "text/plain": [
              "(150930, 11)"
            ]
          },
          "metadata": {
            "tags": []
          },
          "execution_count": 4
        }
      ]
    },
    {
      "cell_type": "code",
      "metadata": {
        "colab": {
          "base_uri": "https://localhost:8080/"
        },
        "id": "sDfDBotNCrUL",
        "outputId": "8b3f8700-8244-434b-93e4-696a0d676742"
      },
      "source": [
        "# first step look for duplicates in features to began data cleansing process\r\n",
        "wine_all_you_want_df.columns"
      ],
      "execution_count": 5,
      "outputs": [
        {
          "output_type": "execute_result",
          "data": {
            "text/plain": [
              "Index(['Unnamed: 0', 'country', 'description', 'designation', 'points',\n",
              "       'price', 'province', 'region_1', 'region_2', 'variety', 'winery'],\n",
              "      dtype='object')"
            ]
          },
          "metadata": {
            "tags": []
          },
          "execution_count": 5
        }
      ]
    },
    {
      "cell_type": "code",
      "metadata": {
        "colab": {
          "base_uri": "https://localhost:8080/",
          "height": 296
        },
        "id": "mShzxRZLDCAi",
        "outputId": "584a9d7c-e1ce-4aab-eff4-9f630b0b2858"
      },
      "source": [
        "# df.tail to confirm observation that feature \"Unnamed\" appears to be the same as index\r\n",
        "wine_all_you_want_df.tail()"
      ],
      "execution_count": 6,
      "outputs": [
        {
          "output_type": "execute_result",
          "data": {
            "text/html": [
              "<div>\n",
              "<style scoped>\n",
              "    .dataframe tbody tr th:only-of-type {\n",
              "        vertical-align: middle;\n",
              "    }\n",
              "\n",
              "    .dataframe tbody tr th {\n",
              "        vertical-align: top;\n",
              "    }\n",
              "\n",
              "    .dataframe thead th {\n",
              "        text-align: right;\n",
              "    }\n",
              "</style>\n",
              "<table border=\"1\" class=\"dataframe\">\n",
              "  <thead>\n",
              "    <tr style=\"text-align: right;\">\n",
              "      <th></th>\n",
              "      <th>Unnamed: 0</th>\n",
              "      <th>country</th>\n",
              "      <th>description</th>\n",
              "      <th>designation</th>\n",
              "      <th>points</th>\n",
              "      <th>price</th>\n",
              "      <th>province</th>\n",
              "      <th>region_1</th>\n",
              "      <th>region_2</th>\n",
              "      <th>variety</th>\n",
              "      <th>winery</th>\n",
              "    </tr>\n",
              "  </thead>\n",
              "  <tbody>\n",
              "    <tr>\n",
              "      <th>150925</th>\n",
              "      <td>150925</td>\n",
              "      <td>Italy</td>\n",
              "      <td>Many people feel Fiano represents southern Ita...</td>\n",
              "      <td>NaN</td>\n",
              "      <td>91</td>\n",
              "      <td>20.0</td>\n",
              "      <td>Southern Italy</td>\n",
              "      <td>Fiano di Avellino</td>\n",
              "      <td>NaN</td>\n",
              "      <td>White Blend</td>\n",
              "      <td>Feudi di San Gregorio</td>\n",
              "    </tr>\n",
              "    <tr>\n",
              "      <th>150926</th>\n",
              "      <td>150926</td>\n",
              "      <td>France</td>\n",
              "      <td>Offers an intriguing nose with ginger, lime an...</td>\n",
              "      <td>Cuvée Prestige</td>\n",
              "      <td>91</td>\n",
              "      <td>27.0</td>\n",
              "      <td>Champagne</td>\n",
              "      <td>Champagne</td>\n",
              "      <td>NaN</td>\n",
              "      <td>Champagne Blend</td>\n",
              "      <td>H.Germain</td>\n",
              "    </tr>\n",
              "    <tr>\n",
              "      <th>150927</th>\n",
              "      <td>150927</td>\n",
              "      <td>Italy</td>\n",
              "      <td>This classic example comes from a cru vineyard...</td>\n",
              "      <td>Terre di Dora</td>\n",
              "      <td>91</td>\n",
              "      <td>20.0</td>\n",
              "      <td>Southern Italy</td>\n",
              "      <td>Fiano di Avellino</td>\n",
              "      <td>NaN</td>\n",
              "      <td>White Blend</td>\n",
              "      <td>Terredora</td>\n",
              "    </tr>\n",
              "    <tr>\n",
              "      <th>150928</th>\n",
              "      <td>150928</td>\n",
              "      <td>France</td>\n",
              "      <td>A perfect salmon shade, with scents of peaches...</td>\n",
              "      <td>Grand Brut Rosé</td>\n",
              "      <td>90</td>\n",
              "      <td>52.0</td>\n",
              "      <td>Champagne</td>\n",
              "      <td>Champagne</td>\n",
              "      <td>NaN</td>\n",
              "      <td>Champagne Blend</td>\n",
              "      <td>Gosset</td>\n",
              "    </tr>\n",
              "    <tr>\n",
              "      <th>150929</th>\n",
              "      <td>150929</td>\n",
              "      <td>Italy</td>\n",
              "      <td>More Pinot Grigios should taste like this. A r...</td>\n",
              "      <td>NaN</td>\n",
              "      <td>90</td>\n",
              "      <td>15.0</td>\n",
              "      <td>Northeastern Italy</td>\n",
              "      <td>Alto Adige</td>\n",
              "      <td>NaN</td>\n",
              "      <td>Pinot Grigio</td>\n",
              "      <td>Alois Lageder</td>\n",
              "    </tr>\n",
              "  </tbody>\n",
              "</table>\n",
              "</div>"
            ],
            "text/plain": [
              "        Unnamed: 0 country  ...          variety                 winery\n",
              "150925      150925   Italy  ...      White Blend  Feudi di San Gregorio\n",
              "150926      150926  France  ...  Champagne Blend              H.Germain\n",
              "150927      150927   Italy  ...      White Blend              Terredora\n",
              "150928      150928  France  ...  Champagne Blend                 Gosset\n",
              "150929      150929   Italy  ...     Pinot Grigio          Alois Lageder\n",
              "\n",
              "[5 rows x 11 columns]"
            ]
          },
          "metadata": {
            "tags": []
          },
          "execution_count": 6
        }
      ]
    },
    {
      "cell_type": "code",
      "metadata": {
        "id": "d_v1YPGWDf-3"
      },
      "source": [
        "# \"Unnamed\" is definitely the same as index so drop it like it's hot\r\n",
        "wine_all_you_want_df.drop(columns=['Unnamed: 0'], inplace=True)"
      ],
      "execution_count": 7,
      "outputs": []
    },
    {
      "cell_type": "code",
      "metadata": {
        "colab": {
          "base_uri": "https://localhost:8080/"
        },
        "id": "_nT97pBNEIQ-",
        "outputId": "b95e5a02-287c-4081-fe26-36dbecc35e9d"
      },
      "source": [
        "# visualize updated features\r\n",
        "wine_all_you_want_df.columns\r\n"
      ],
      "execution_count": 8,
      "outputs": [
        {
          "output_type": "execute_result",
          "data": {
            "text/plain": [
              "Index(['country', 'description', 'designation', 'points', 'price', 'province',\n",
              "       'region_1', 'region_2', 'variety', 'winery'],\n",
              "      dtype='object')"
            ]
          },
          "metadata": {
            "tags": []
          },
          "execution_count": 8
        }
      ]
    },
    {
      "cell_type": "code",
      "metadata": {
        "colab": {
          "base_uri": "https://localhost:8080/"
        },
        "id": "jvowVDw1FLes",
        "outputId": "1f5d53de-2f34-4cdf-c9ae-1eba82d75877"
      },
      "source": [
        "# view data info \r\n",
        "wine_all_you_want_df.info()"
      ],
      "execution_count": 9,
      "outputs": [
        {
          "output_type": "stream",
          "text": [
            "<class 'pandas.core.frame.DataFrame'>\n",
            "RangeIndex: 150930 entries, 0 to 150929\n",
            "Data columns (total 10 columns):\n",
            " #   Column       Non-Null Count   Dtype  \n",
            "---  ------       --------------   -----  \n",
            " 0   country      150925 non-null  object \n",
            " 1   description  150930 non-null  object \n",
            " 2   designation  105195 non-null  object \n",
            " 3   points       150930 non-null  int64  \n",
            " 4   price        137235 non-null  float64\n",
            " 5   province     150925 non-null  object \n",
            " 6   region_1     125870 non-null  object \n",
            " 7   region_2     60953 non-null   object \n",
            " 8   variety      150930 non-null  object \n",
            " 9   winery       150930 non-null  object \n",
            "dtypes: float64(1), int64(1), object(8)\n",
            "memory usage: 11.5+ MB\n"
          ],
          "name": "stdout"
        }
      ]
    },
    {
      "cell_type": "markdown",
      "metadata": {
        "id": "ewsu0R24Fmj3"
      },
      "source": [
        "Observations: \r\n",
        "1. points and price are already in the format I need them to be (int/float)\r\n",
        "2. some features have null/missing values\r\n",
        "3. there are half as many region 2's as region 1\r\n",
        "4. there are roughly 13,000+ rows with no price\r\n",
        "5. there are over 45,000 rows with no name\r\n",
        "6. there are 5 wines without a country\r\n"
      ]
    },
    {
      "cell_type": "markdown",
      "metadata": {
        "id": "pnq0o7EnHHRW"
      },
      "source": [
        "Began cleansing data based on observations above"
      ]
    },
    {
      "cell_type": "code",
      "metadata": {
        "id": "FJ735narFtuV"
      },
      "source": [
        "# drop region 2\r\n",
        "wine_all_you_want_df.drop(columns=['region_2'], inplace=True)"
      ],
      "execution_count": 10,
      "outputs": []
    },
    {
      "cell_type": "code",
      "metadata": {
        "colab": {
          "base_uri": "https://localhost:8080/"
        },
        "id": "zIJsdcoHFVbj",
        "outputId": "e9f63538-2939-43b5-cea2-a95c064f66bd"
      },
      "source": [
        "# visualize updated features\r\n",
        "wine_all_you_want_df.columns"
      ],
      "execution_count": 11,
      "outputs": [
        {
          "output_type": "execute_result",
          "data": {
            "text/plain": [
              "Index(['country', 'description', 'designation', 'points', 'price', 'province',\n",
              "       'region_1', 'variety', 'winery'],\n",
              "      dtype='object')"
            ]
          },
          "metadata": {
            "tags": []
          },
          "execution_count": 11
        }
      ]
    },
    {
      "cell_type": "code",
      "metadata": {
        "colab": {
          "base_uri": "https://localhost:8080/"
        },
        "id": "dAZe_yfFHfPp",
        "outputId": "0b970eb6-5a03-412d-8773-22495517942d"
      },
      "source": [
        "# drop missing price values to normalize data\r\n",
        "wine_all_you_want_df.dropna(subset=['price'], inplace=True)\r\n",
        "wine_all_you_want_df.count(0)"
      ],
      "execution_count": 12,
      "outputs": [
        {
          "output_type": "execute_result",
          "data": {
            "text/plain": [
              "country        137230\n",
              "description    137235\n",
              "designation     94924\n",
              "points         137235\n",
              "price          137235\n",
              "province       137230\n",
              "region_1       114393\n",
              "variety        137235\n",
              "winery         137235\n",
              "dtype: int64"
            ]
          },
          "metadata": {
            "tags": []
          },
          "execution_count": 12
        }
      ]
    },
    {
      "cell_type": "code",
      "metadata": {
        "colab": {
          "base_uri": "https://localhost:8080/"
        },
        "id": "EOq0ryVgH9gj",
        "outputId": "5d06c919-12ea-4a80-bbdb-12101c4b48a7"
      },
      "source": [
        "# drop wines wines with no country\r\n",
        "wine_all_you_want_df.dropna(subset=['country'], inplace=True)\r\n",
        "wine_all_you_want_df.count(0)"
      ],
      "execution_count": 13,
      "outputs": [
        {
          "output_type": "execute_result",
          "data": {
            "text/plain": [
              "country        137230\n",
              "description    137230\n",
              "designation     94919\n",
              "points         137230\n",
              "price          137230\n",
              "province       137230\n",
              "region_1       114393\n",
              "variety        137230\n",
              "winery         137230\n",
              "dtype: int64"
            ]
          },
          "metadata": {
            "tags": []
          },
          "execution_count": 13
        }
      ]
    },
    {
      "cell_type": "markdown",
      "metadata": {
        "id": "2VAEOh3ILPm7"
      },
      "source": [
        "Determine if it makes sense to change the name of my features"
      ]
    },
    {
      "cell_type": "code",
      "metadata": {
        "colab": {
          "base_uri": "https://localhost:8080/",
          "height": 570
        },
        "id": "cVg-FFtqJEwp",
        "outputId": "45488265-d034-4cb3-cf65-b13548f4a8d9"
      },
      "source": [
        "# it makes more sense for feature \"designation\" to be called \"wine name\"\r\n",
        "wine_all_you_want_df = wine_all_you_want_df.rename(columns={\"designation\": \"wine_name\"})\r\n",
        "wine_all_you_want_df"
      ],
      "execution_count": 14,
      "outputs": [
        {
          "output_type": "execute_result",
          "data": {
            "text/html": [
              "<div>\n",
              "<style scoped>\n",
              "    .dataframe tbody tr th:only-of-type {\n",
              "        vertical-align: middle;\n",
              "    }\n",
              "\n",
              "    .dataframe tbody tr th {\n",
              "        vertical-align: top;\n",
              "    }\n",
              "\n",
              "    .dataframe thead th {\n",
              "        text-align: right;\n",
              "    }\n",
              "</style>\n",
              "<table border=\"1\" class=\"dataframe\">\n",
              "  <thead>\n",
              "    <tr style=\"text-align: right;\">\n",
              "      <th></th>\n",
              "      <th>country</th>\n",
              "      <th>description</th>\n",
              "      <th>wine_name</th>\n",
              "      <th>points</th>\n",
              "      <th>price</th>\n",
              "      <th>province</th>\n",
              "      <th>region_1</th>\n",
              "      <th>variety</th>\n",
              "      <th>winery</th>\n",
              "    </tr>\n",
              "  </thead>\n",
              "  <tbody>\n",
              "    <tr>\n",
              "      <th>0</th>\n",
              "      <td>US</td>\n",
              "      <td>This tremendous 100% varietal wine hails from ...</td>\n",
              "      <td>Martha's Vineyard</td>\n",
              "      <td>96</td>\n",
              "      <td>235.0</td>\n",
              "      <td>California</td>\n",
              "      <td>Napa Valley</td>\n",
              "      <td>Cabernet Sauvignon</td>\n",
              "      <td>Heitz</td>\n",
              "    </tr>\n",
              "    <tr>\n",
              "      <th>1</th>\n",
              "      <td>Spain</td>\n",
              "      <td>Ripe aromas of fig, blackberry and cassis are ...</td>\n",
              "      <td>Carodorum Selección Especial Reserva</td>\n",
              "      <td>96</td>\n",
              "      <td>110.0</td>\n",
              "      <td>Northern Spain</td>\n",
              "      <td>Toro</td>\n",
              "      <td>Tinta de Toro</td>\n",
              "      <td>Bodega Carmen Rodríguez</td>\n",
              "    </tr>\n",
              "    <tr>\n",
              "      <th>2</th>\n",
              "      <td>US</td>\n",
              "      <td>Mac Watson honors the memory of a wine once ma...</td>\n",
              "      <td>Special Selected Late Harvest</td>\n",
              "      <td>96</td>\n",
              "      <td>90.0</td>\n",
              "      <td>California</td>\n",
              "      <td>Knights Valley</td>\n",
              "      <td>Sauvignon Blanc</td>\n",
              "      <td>Macauley</td>\n",
              "    </tr>\n",
              "    <tr>\n",
              "      <th>3</th>\n",
              "      <td>US</td>\n",
              "      <td>This spent 20 months in 30% new French oak, an...</td>\n",
              "      <td>Reserve</td>\n",
              "      <td>96</td>\n",
              "      <td>65.0</td>\n",
              "      <td>Oregon</td>\n",
              "      <td>Willamette Valley</td>\n",
              "      <td>Pinot Noir</td>\n",
              "      <td>Ponzi</td>\n",
              "    </tr>\n",
              "    <tr>\n",
              "      <th>4</th>\n",
              "      <td>France</td>\n",
              "      <td>This is the top wine from La Bégude, named aft...</td>\n",
              "      <td>La Brûlade</td>\n",
              "      <td>95</td>\n",
              "      <td>66.0</td>\n",
              "      <td>Provence</td>\n",
              "      <td>Bandol</td>\n",
              "      <td>Provence red blend</td>\n",
              "      <td>Domaine de la Bégude</td>\n",
              "    </tr>\n",
              "    <tr>\n",
              "      <th>...</th>\n",
              "      <td>...</td>\n",
              "      <td>...</td>\n",
              "      <td>...</td>\n",
              "      <td>...</td>\n",
              "      <td>...</td>\n",
              "      <td>...</td>\n",
              "      <td>...</td>\n",
              "      <td>...</td>\n",
              "      <td>...</td>\n",
              "    </tr>\n",
              "    <tr>\n",
              "      <th>150925</th>\n",
              "      <td>Italy</td>\n",
              "      <td>Many people feel Fiano represents southern Ita...</td>\n",
              "      <td>NaN</td>\n",
              "      <td>91</td>\n",
              "      <td>20.0</td>\n",
              "      <td>Southern Italy</td>\n",
              "      <td>Fiano di Avellino</td>\n",
              "      <td>White Blend</td>\n",
              "      <td>Feudi di San Gregorio</td>\n",
              "    </tr>\n",
              "    <tr>\n",
              "      <th>150926</th>\n",
              "      <td>France</td>\n",
              "      <td>Offers an intriguing nose with ginger, lime an...</td>\n",
              "      <td>Cuvée Prestige</td>\n",
              "      <td>91</td>\n",
              "      <td>27.0</td>\n",
              "      <td>Champagne</td>\n",
              "      <td>Champagne</td>\n",
              "      <td>Champagne Blend</td>\n",
              "      <td>H.Germain</td>\n",
              "    </tr>\n",
              "    <tr>\n",
              "      <th>150927</th>\n",
              "      <td>Italy</td>\n",
              "      <td>This classic example comes from a cru vineyard...</td>\n",
              "      <td>Terre di Dora</td>\n",
              "      <td>91</td>\n",
              "      <td>20.0</td>\n",
              "      <td>Southern Italy</td>\n",
              "      <td>Fiano di Avellino</td>\n",
              "      <td>White Blend</td>\n",
              "      <td>Terredora</td>\n",
              "    </tr>\n",
              "    <tr>\n",
              "      <th>150928</th>\n",
              "      <td>France</td>\n",
              "      <td>A perfect salmon shade, with scents of peaches...</td>\n",
              "      <td>Grand Brut Rosé</td>\n",
              "      <td>90</td>\n",
              "      <td>52.0</td>\n",
              "      <td>Champagne</td>\n",
              "      <td>Champagne</td>\n",
              "      <td>Champagne Blend</td>\n",
              "      <td>Gosset</td>\n",
              "    </tr>\n",
              "    <tr>\n",
              "      <th>150929</th>\n",
              "      <td>Italy</td>\n",
              "      <td>More Pinot Grigios should taste like this. A r...</td>\n",
              "      <td>NaN</td>\n",
              "      <td>90</td>\n",
              "      <td>15.0</td>\n",
              "      <td>Northeastern Italy</td>\n",
              "      <td>Alto Adige</td>\n",
              "      <td>Pinot Grigio</td>\n",
              "      <td>Alois Lageder</td>\n",
              "    </tr>\n",
              "  </tbody>\n",
              "</table>\n",
              "<p>137230 rows × 9 columns</p>\n",
              "</div>"
            ],
            "text/plain": [
              "       country  ...                   winery\n",
              "0           US  ...                    Heitz\n",
              "1        Spain  ...  Bodega Carmen Rodríguez\n",
              "2           US  ...                 Macauley\n",
              "3           US  ...                    Ponzi\n",
              "4       France  ...     Domaine de la Bégude\n",
              "...        ...  ...                      ...\n",
              "150925   Italy  ...    Feudi di San Gregorio\n",
              "150926  France  ...                H.Germain\n",
              "150927   Italy  ...                Terredora\n",
              "150928  France  ...                   Gosset\n",
              "150929   Italy  ...            Alois Lageder\n",
              "\n",
              "[137230 rows x 9 columns]"
            ]
          },
          "metadata": {
            "tags": []
          },
          "execution_count": 14
        }
      ]
    },
    {
      "cell_type": "markdown",
      "metadata": {
        "id": "fq4JvTbrPOE5"
      },
      "source": [
        "Need to address the fact that there are 40,000+ wines with no name."
      ]
    },
    {
      "cell_type": "code",
      "metadata": {
        "id": "3-_qk9ebL7DK",
        "colab": {
          "base_uri": "https://localhost:8080/",
          "height": 279
        },
        "outputId": "7cab6215-312b-4ddf-d07c-5912d79b022c"
      },
      "source": [
        "# manipulate the data by combining features \"variety\" and \"winery\" as a filler/psuedo name for the missing wine names\r\n",
        "# create a new column to reflect this concatenation (that word always makes me feel like an analyst :)\r\n",
        "wine_all_you_want_df[\"variety_from_winery\"] = wine_all_you_want_df[\"variety\"] + \"_from_\" + wine_all_you_want_df[\"winery\"]\r\n",
        "wine_all_you_want_df.head() "
      ],
      "execution_count": 15,
      "outputs": [
        {
          "output_type": "execute_result",
          "data": {
            "text/html": [
              "<div>\n",
              "<style scoped>\n",
              "    .dataframe tbody tr th:only-of-type {\n",
              "        vertical-align: middle;\n",
              "    }\n",
              "\n",
              "    .dataframe tbody tr th {\n",
              "        vertical-align: top;\n",
              "    }\n",
              "\n",
              "    .dataframe thead th {\n",
              "        text-align: right;\n",
              "    }\n",
              "</style>\n",
              "<table border=\"1\" class=\"dataframe\">\n",
              "  <thead>\n",
              "    <tr style=\"text-align: right;\">\n",
              "      <th></th>\n",
              "      <th>country</th>\n",
              "      <th>description</th>\n",
              "      <th>wine_name</th>\n",
              "      <th>points</th>\n",
              "      <th>price</th>\n",
              "      <th>province</th>\n",
              "      <th>region_1</th>\n",
              "      <th>variety</th>\n",
              "      <th>winery</th>\n",
              "      <th>variety_from_winery</th>\n",
              "    </tr>\n",
              "  </thead>\n",
              "  <tbody>\n",
              "    <tr>\n",
              "      <th>0</th>\n",
              "      <td>US</td>\n",
              "      <td>This tremendous 100% varietal wine hails from ...</td>\n",
              "      <td>Martha's Vineyard</td>\n",
              "      <td>96</td>\n",
              "      <td>235.0</td>\n",
              "      <td>California</td>\n",
              "      <td>Napa Valley</td>\n",
              "      <td>Cabernet Sauvignon</td>\n",
              "      <td>Heitz</td>\n",
              "      <td>Cabernet Sauvignon_from_Heitz</td>\n",
              "    </tr>\n",
              "    <tr>\n",
              "      <th>1</th>\n",
              "      <td>Spain</td>\n",
              "      <td>Ripe aromas of fig, blackberry and cassis are ...</td>\n",
              "      <td>Carodorum Selección Especial Reserva</td>\n",
              "      <td>96</td>\n",
              "      <td>110.0</td>\n",
              "      <td>Northern Spain</td>\n",
              "      <td>Toro</td>\n",
              "      <td>Tinta de Toro</td>\n",
              "      <td>Bodega Carmen Rodríguez</td>\n",
              "      <td>Tinta de Toro_from_Bodega Carmen Rodríguez</td>\n",
              "    </tr>\n",
              "    <tr>\n",
              "      <th>2</th>\n",
              "      <td>US</td>\n",
              "      <td>Mac Watson honors the memory of a wine once ma...</td>\n",
              "      <td>Special Selected Late Harvest</td>\n",
              "      <td>96</td>\n",
              "      <td>90.0</td>\n",
              "      <td>California</td>\n",
              "      <td>Knights Valley</td>\n",
              "      <td>Sauvignon Blanc</td>\n",
              "      <td>Macauley</td>\n",
              "      <td>Sauvignon Blanc_from_Macauley</td>\n",
              "    </tr>\n",
              "    <tr>\n",
              "      <th>3</th>\n",
              "      <td>US</td>\n",
              "      <td>This spent 20 months in 30% new French oak, an...</td>\n",
              "      <td>Reserve</td>\n",
              "      <td>96</td>\n",
              "      <td>65.0</td>\n",
              "      <td>Oregon</td>\n",
              "      <td>Willamette Valley</td>\n",
              "      <td>Pinot Noir</td>\n",
              "      <td>Ponzi</td>\n",
              "      <td>Pinot Noir_from_Ponzi</td>\n",
              "    </tr>\n",
              "    <tr>\n",
              "      <th>4</th>\n",
              "      <td>France</td>\n",
              "      <td>This is the top wine from La Bégude, named aft...</td>\n",
              "      <td>La Brûlade</td>\n",
              "      <td>95</td>\n",
              "      <td>66.0</td>\n",
              "      <td>Provence</td>\n",
              "      <td>Bandol</td>\n",
              "      <td>Provence red blend</td>\n",
              "      <td>Domaine de la Bégude</td>\n",
              "      <td>Provence red blend_from_Domaine de la Bégude</td>\n",
              "    </tr>\n",
              "  </tbody>\n",
              "</table>\n",
              "</div>"
            ],
            "text/plain": [
              "  country  ...                           variety_from_winery\n",
              "0      US  ...                 Cabernet Sauvignon_from_Heitz\n",
              "1   Spain  ...    Tinta de Toro_from_Bodega Carmen Rodríguez\n",
              "2      US  ...                 Sauvignon Blanc_from_Macauley\n",
              "3      US  ...                         Pinot Noir_from_Ponzi\n",
              "4  France  ...  Provence red blend_from_Domaine de la Bégude\n",
              "\n",
              "[5 rows x 10 columns]"
            ]
          },
          "metadata": {
            "tags": []
          },
          "execution_count": 15
        }
      ]
    },
    {
      "cell_type": "markdown",
      "metadata": {
        "id": "VGGkwBkMR21P"
      },
      "source": [
        "Determine if features need to be reordered for better readability."
      ]
    },
    {
      "cell_type": "code",
      "metadata": {
        "colab": {
          "base_uri": "https://localhost:8080/",
          "height": 975
        },
        "id": "fI6PeWLzRNf-",
        "outputId": "abacc213-d7b8-44b3-ba4a-7ffec6b6713e"
      },
      "source": [
        "column_names = [\"country\", \"province\", \"region_1\", \"variety\", \"winery\", \"variety_from_winery\", \"wine_name\", \"points\", \"price\", \"description\"]\r\n",
        "\r\n",
        "wine_all_you_want_df = wine_all_you_want_df.reindex(columns=column_names)\r\n",
        "# visualize a large sample to visualize feature updates and explore missing data that was evident above in cell 13 (wine_all_you_want_df.count)\r\n",
        "wine_all_you_want_df.head(15)\r\n",
        "wine_all_you_want_df.tail(20)"
      ],
      "execution_count": 16,
      "outputs": [
        {
          "output_type": "execute_result",
          "data": {
            "text/html": [
              "<div>\n",
              "<style scoped>\n",
              "    .dataframe tbody tr th:only-of-type {\n",
              "        vertical-align: middle;\n",
              "    }\n",
              "\n",
              "    .dataframe tbody tr th {\n",
              "        vertical-align: top;\n",
              "    }\n",
              "\n",
              "    .dataframe thead th {\n",
              "        text-align: right;\n",
              "    }\n",
              "</style>\n",
              "<table border=\"1\" class=\"dataframe\">\n",
              "  <thead>\n",
              "    <tr style=\"text-align: right;\">\n",
              "      <th></th>\n",
              "      <th>country</th>\n",
              "      <th>province</th>\n",
              "      <th>region_1</th>\n",
              "      <th>variety</th>\n",
              "      <th>winery</th>\n",
              "      <th>variety_from_winery</th>\n",
              "      <th>wine_name</th>\n",
              "      <th>points</th>\n",
              "      <th>price</th>\n",
              "      <th>description</th>\n",
              "    </tr>\n",
              "  </thead>\n",
              "  <tbody>\n",
              "    <tr>\n",
              "      <th>150909</th>\n",
              "      <td>France</td>\n",
              "      <td>Burgundy</td>\n",
              "      <td>Nuits-St.-Georges</td>\n",
              "      <td>Pinot Noir</td>\n",
              "      <td>Daniel Rion</td>\n",
              "      <td>Pinot Noir_from_Daniel Rion</td>\n",
              "      <td>Clos dea Argillieres</td>\n",
              "      <td>89</td>\n",
              "      <td>52.0</td>\n",
              "      <td>This is a lovely, fragrant Burgundy, with a sm...</td>\n",
              "    </tr>\n",
              "    <tr>\n",
              "      <th>150910</th>\n",
              "      <td>France</td>\n",
              "      <td>Burgundy</td>\n",
              "      <td>Chambolle-Musigny</td>\n",
              "      <td>Pinot Noir</td>\n",
              "      <td>Michel Gros</td>\n",
              "      <td>Pinot Noir_from_Michel Gros</td>\n",
              "      <td>NaN</td>\n",
              "      <td>89</td>\n",
              "      <td>38.0</td>\n",
              "      <td>Scents of graham cracker and malted milk choco...</td>\n",
              "    </tr>\n",
              "    <tr>\n",
              "      <th>150911</th>\n",
              "      <td>France</td>\n",
              "      <td>Burgundy</td>\n",
              "      <td>Nuits-St.-Georges</td>\n",
              "      <td>Pinot Noir</td>\n",
              "      <td>Michel Gros</td>\n",
              "      <td>Pinot Noir_from_Michel Gros</td>\n",
              "      <td>Les Chaliots</td>\n",
              "      <td>87</td>\n",
              "      <td>37.0</td>\n",
              "      <td>This needs a good bit of breathing time, then ...</td>\n",
              "    </tr>\n",
              "    <tr>\n",
              "      <th>150912</th>\n",
              "      <td>France</td>\n",
              "      <td>Burgundy</td>\n",
              "      <td>Chambolle-Musigny</td>\n",
              "      <td>Pinot Noir</td>\n",
              "      <td>Daniel Rion</td>\n",
              "      <td>Pinot Noir_from_Daniel Rion</td>\n",
              "      <td>Les Charmes</td>\n",
              "      <td>87</td>\n",
              "      <td>65.0</td>\n",
              "      <td>The nose is dominated by the attractive scents...</td>\n",
              "    </tr>\n",
              "    <tr>\n",
              "      <th>150913</th>\n",
              "      <td>France</td>\n",
              "      <td>Rhône Valley</td>\n",
              "      <td>Châteauneuf-du-Pape</td>\n",
              "      <td>Rhône-style Red Blend</td>\n",
              "      <td>Le Vieux Donjon</td>\n",
              "      <td>Rhône-style Red Blend_from_Le Vieux Donjon</td>\n",
              "      <td>NaN</td>\n",
              "      <td>94</td>\n",
              "      <td>30.0</td>\n",
              "      <td>Inky and rustic, yet in a refined manner. This...</td>\n",
              "    </tr>\n",
              "    <tr>\n",
              "      <th>150914</th>\n",
              "      <td>US</td>\n",
              "      <td>California</td>\n",
              "      <td>Anderson Valley</td>\n",
              "      <td>White Riesling</td>\n",
              "      <td>Navarro</td>\n",
              "      <td>White Riesling_from_Navarro</td>\n",
              "      <td>Late Harvest Cluster Select</td>\n",
              "      <td>94</td>\n",
              "      <td>25.0</td>\n",
              "      <td>Old-gold in color, and thick and syrupy. The a...</td>\n",
              "    </tr>\n",
              "    <tr>\n",
              "      <th>150915</th>\n",
              "      <td>US</td>\n",
              "      <td>California</td>\n",
              "      <td>North Coast</td>\n",
              "      <td>White Blend</td>\n",
              "      <td>Beringer</td>\n",
              "      <td>White Blend_from_Beringer</td>\n",
              "      <td>Nightingale</td>\n",
              "      <td>93</td>\n",
              "      <td>30.0</td>\n",
              "      <td>Decades ago, Beringer’s then-winemaker Myron N...</td>\n",
              "    </tr>\n",
              "    <tr>\n",
              "      <th>150916</th>\n",
              "      <td>US</td>\n",
              "      <td>California</td>\n",
              "      <td>Napa Valley</td>\n",
              "      <td>Champagne Blend</td>\n",
              "      <td>Schramsberg</td>\n",
              "      <td>Champagne Blend_from_Schramsberg</td>\n",
              "      <td>J. Schram</td>\n",
              "      <td>93</td>\n",
              "      <td>65.0</td>\n",
              "      <td>An impressive wine that presents a full bouque...</td>\n",
              "    </tr>\n",
              "    <tr>\n",
              "      <th>150917</th>\n",
              "      <td>France</td>\n",
              "      <td>Champagne</td>\n",
              "      <td>Champagne</td>\n",
              "      <td>Champagne Blend</td>\n",
              "      <td>Jacquart</td>\n",
              "      <td>Champagne Blend_from_Jacquart</td>\n",
              "      <td>Brut Mosaïque</td>\n",
              "      <td>92</td>\n",
              "      <td>30.0</td>\n",
              "      <td>Light and elegant, this spicy, lively wine is ...</td>\n",
              "    </tr>\n",
              "    <tr>\n",
              "      <th>150918</th>\n",
              "      <td>France</td>\n",
              "      <td>Champagne</td>\n",
              "      <td>Champagne</td>\n",
              "      <td>Champagne Blend</td>\n",
              "      <td>Jacquart</td>\n",
              "      <td>Champagne Blend_from_Jacquart</td>\n",
              "      <td>Cuvée Mosaïque</td>\n",
              "      <td>92</td>\n",
              "      <td>38.0</td>\n",
              "      <td>Jacquart makes a full-bodied, ripe style of Ch...</td>\n",
              "    </tr>\n",
              "    <tr>\n",
              "      <th>150919</th>\n",
              "      <td>France</td>\n",
              "      <td>Champagne</td>\n",
              "      <td>Champagne</td>\n",
              "      <td>Champagne Blend</td>\n",
              "      <td>H.Germain</td>\n",
              "      <td>Champagne Blend_from_H.Germain</td>\n",
              "      <td>Cuvée President</td>\n",
              "      <td>91</td>\n",
              "      <td>37.0</td>\n",
              "      <td>This classy example opens with a very floral n...</td>\n",
              "    </tr>\n",
              "    <tr>\n",
              "      <th>150920</th>\n",
              "      <td>Italy</td>\n",
              "      <td>Northeastern Italy</td>\n",
              "      <td>Trento</td>\n",
              "      <td>Champagne Blend</td>\n",
              "      <td>Letrari</td>\n",
              "      <td>Champagne Blend_from_Letrari</td>\n",
              "      <td>Brut Riserva</td>\n",
              "      <td>91</td>\n",
              "      <td>19.0</td>\n",
              "      <td>Rich and mature aromas of smoke, earth and her...</td>\n",
              "    </tr>\n",
              "    <tr>\n",
              "      <th>150921</th>\n",
              "      <td>France</td>\n",
              "      <td>Champagne</td>\n",
              "      <td>Champagne</td>\n",
              "      <td>Champagne Blend</td>\n",
              "      <td>Jacquart</td>\n",
              "      <td>Champagne Blend_from_Jacquart</td>\n",
              "      <td>Blanc de Blancs Brut Mosaïque</td>\n",
              "      <td>91</td>\n",
              "      <td>38.0</td>\n",
              "      <td>Shows some older notes: a bouquet of toasted w...</td>\n",
              "    </tr>\n",
              "    <tr>\n",
              "      <th>150923</th>\n",
              "      <td>France</td>\n",
              "      <td>Champagne</td>\n",
              "      <td>Champagne</td>\n",
              "      <td>Champagne Blend</td>\n",
              "      <td>Jacquart</td>\n",
              "      <td>Champagne Blend_from_Jacquart</td>\n",
              "      <td>Demi-Sec</td>\n",
              "      <td>91</td>\n",
              "      <td>30.0</td>\n",
              "      <td>Rich and toasty, with tiny bubbles. The bouque...</td>\n",
              "    </tr>\n",
              "    <tr>\n",
              "      <th>150924</th>\n",
              "      <td>France</td>\n",
              "      <td>Champagne</td>\n",
              "      <td>Champagne</td>\n",
              "      <td>Champagne Blend</td>\n",
              "      <td>Heidsieck &amp; Co Monopole</td>\n",
              "      <td>Champagne Blend_from_Heidsieck &amp; Co Monopole</td>\n",
              "      <td>Diamant Bleu</td>\n",
              "      <td>91</td>\n",
              "      <td>70.0</td>\n",
              "      <td>Really fine for a low-acid vintage, there's an...</td>\n",
              "    </tr>\n",
              "    <tr>\n",
              "      <th>150925</th>\n",
              "      <td>Italy</td>\n",
              "      <td>Southern Italy</td>\n",
              "      <td>Fiano di Avellino</td>\n",
              "      <td>White Blend</td>\n",
              "      <td>Feudi di San Gregorio</td>\n",
              "      <td>White Blend_from_Feudi di San Gregorio</td>\n",
              "      <td>NaN</td>\n",
              "      <td>91</td>\n",
              "      <td>20.0</td>\n",
              "      <td>Many people feel Fiano represents southern Ita...</td>\n",
              "    </tr>\n",
              "    <tr>\n",
              "      <th>150926</th>\n",
              "      <td>France</td>\n",
              "      <td>Champagne</td>\n",
              "      <td>Champagne</td>\n",
              "      <td>Champagne Blend</td>\n",
              "      <td>H.Germain</td>\n",
              "      <td>Champagne Blend_from_H.Germain</td>\n",
              "      <td>Cuvée Prestige</td>\n",
              "      <td>91</td>\n",
              "      <td>27.0</td>\n",
              "      <td>Offers an intriguing nose with ginger, lime an...</td>\n",
              "    </tr>\n",
              "    <tr>\n",
              "      <th>150927</th>\n",
              "      <td>Italy</td>\n",
              "      <td>Southern Italy</td>\n",
              "      <td>Fiano di Avellino</td>\n",
              "      <td>White Blend</td>\n",
              "      <td>Terredora</td>\n",
              "      <td>White Blend_from_Terredora</td>\n",
              "      <td>Terre di Dora</td>\n",
              "      <td>91</td>\n",
              "      <td>20.0</td>\n",
              "      <td>This classic example comes from a cru vineyard...</td>\n",
              "    </tr>\n",
              "    <tr>\n",
              "      <th>150928</th>\n",
              "      <td>France</td>\n",
              "      <td>Champagne</td>\n",
              "      <td>Champagne</td>\n",
              "      <td>Champagne Blend</td>\n",
              "      <td>Gosset</td>\n",
              "      <td>Champagne Blend_from_Gosset</td>\n",
              "      <td>Grand Brut Rosé</td>\n",
              "      <td>90</td>\n",
              "      <td>52.0</td>\n",
              "      <td>A perfect salmon shade, with scents of peaches...</td>\n",
              "    </tr>\n",
              "    <tr>\n",
              "      <th>150929</th>\n",
              "      <td>Italy</td>\n",
              "      <td>Northeastern Italy</td>\n",
              "      <td>Alto Adige</td>\n",
              "      <td>Pinot Grigio</td>\n",
              "      <td>Alois Lageder</td>\n",
              "      <td>Pinot Grigio_from_Alois Lageder</td>\n",
              "      <td>NaN</td>\n",
              "      <td>90</td>\n",
              "      <td>15.0</td>\n",
              "      <td>More Pinot Grigios should taste like this. A r...</td>\n",
              "    </tr>\n",
              "  </tbody>\n",
              "</table>\n",
              "</div>"
            ],
            "text/plain": [
              "       country  ...                                        description\n",
              "150909  France  ...  This is a lovely, fragrant Burgundy, with a sm...\n",
              "150910  France  ...  Scents of graham cracker and malted milk choco...\n",
              "150911  France  ...  This needs a good bit of breathing time, then ...\n",
              "150912  France  ...  The nose is dominated by the attractive scents...\n",
              "150913  France  ...  Inky and rustic, yet in a refined manner. This...\n",
              "150914      US  ...  Old-gold in color, and thick and syrupy. The a...\n",
              "150915      US  ...  Decades ago, Beringer’s then-winemaker Myron N...\n",
              "150916      US  ...  An impressive wine that presents a full bouque...\n",
              "150917  France  ...  Light and elegant, this spicy, lively wine is ...\n",
              "150918  France  ...  Jacquart makes a full-bodied, ripe style of Ch...\n",
              "150919  France  ...  This classy example opens with a very floral n...\n",
              "150920   Italy  ...  Rich and mature aromas of smoke, earth and her...\n",
              "150921  France  ...  Shows some older notes: a bouquet of toasted w...\n",
              "150923  France  ...  Rich and toasty, with tiny bubbles. The bouque...\n",
              "150924  France  ...  Really fine for a low-acid vintage, there's an...\n",
              "150925   Italy  ...  Many people feel Fiano represents southern Ita...\n",
              "150926  France  ...  Offers an intriguing nose with ginger, lime an...\n",
              "150927   Italy  ...  This classic example comes from a cru vineyard...\n",
              "150928  France  ...  A perfect salmon shade, with scents of peaches...\n",
              "150929   Italy  ...  More Pinot Grigios should taste like this. A r...\n",
              "\n",
              "[20 rows x 10 columns]"
            ]
          },
          "metadata": {
            "tags": []
          },
          "execution_count": 16
        }
      ]
    },
    {
      "cell_type": "markdown",
      "metadata": {
        "id": "FtQdwfp_cg4I"
      },
      "source": [
        "Observation: rows 150910,150913,150925,150929 have NaN values, need to manipulate data to address these gaps."
      ]
    },
    {
      "cell_type": "code",
      "metadata": {
        "colab": {
          "base_uri": "https://localhost:8080/"
        },
        "id": "g_WFoRxMUSow",
        "outputId": "ad863d57-7073-4d25-d087-064b105959db"
      },
      "source": [
        "# sample above shows missing values in feature \"wine_name\" only, explore all missing values\r\n",
        "wine_all_you_want_df.info()"
      ],
      "execution_count": 17,
      "outputs": [
        {
          "output_type": "stream",
          "text": [
            "<class 'pandas.core.frame.DataFrame'>\n",
            "Int64Index: 137230 entries, 0 to 150929\n",
            "Data columns (total 10 columns):\n",
            " #   Column               Non-Null Count   Dtype  \n",
            "---  ------               --------------   -----  \n",
            " 0   country              137230 non-null  object \n",
            " 1   province             137230 non-null  object \n",
            " 2   region_1             114393 non-null  object \n",
            " 3   variety              137230 non-null  object \n",
            " 4   winery               137230 non-null  object \n",
            " 5   variety_from_winery  137230 non-null  object \n",
            " 6   wine_name            94919 non-null   object \n",
            " 7   points               137230 non-null  int64  \n",
            " 8   price                137230 non-null  float64\n",
            " 9   description          137230 non-null  object \n",
            "dtypes: float64(1), int64(1), object(8)\n",
            "memory usage: 11.5+ MB\n"
          ],
          "name": "stdout"
        }
      ]
    },
    {
      "cell_type": "markdown",
      "metadata": {
        "id": "mrUWprZwYoQa"
      },
      "source": [
        "Manipulate data to account for missing values determined from .info\r\n",
        "Use fill forward to fill in missing values with preceeding value.\r\n",
        "I love this function, thank you pandas-docs which says in part regarding this method: 'Method to use for filling holes in reindexed Series pad / ffill: propagate last valid observation forward to next valid backfill / bfill: use next valid observation to fill gap.'"
      ]
    },
    {
      "cell_type": "code",
      "metadata": {
        "colab": {
          "base_uri": "https://localhost:8080/",
          "height": 992
        },
        "id": "PQXm93_ybf9g",
        "outputId": "da4dedf6-52c5-49a2-a35b-6e092759f8c0"
      },
      "source": [
        "wine_all_you_want_df = wine_all_you_want_df.fillna(method=\"ffill\", axis=\"columns\")\r\n",
        "# visualize a large sample to see how the method worked\r\n",
        "wine_all_you_want_df.tail(20)"
      ],
      "execution_count": 18,
      "outputs": [
        {
          "output_type": "execute_result",
          "data": {
            "text/html": [
              "<div>\n",
              "<style scoped>\n",
              "    .dataframe tbody tr th:only-of-type {\n",
              "        vertical-align: middle;\n",
              "    }\n",
              "\n",
              "    .dataframe tbody tr th {\n",
              "        vertical-align: top;\n",
              "    }\n",
              "\n",
              "    .dataframe thead th {\n",
              "        text-align: right;\n",
              "    }\n",
              "</style>\n",
              "<table border=\"1\" class=\"dataframe\">\n",
              "  <thead>\n",
              "    <tr style=\"text-align: right;\">\n",
              "      <th></th>\n",
              "      <th>country</th>\n",
              "      <th>province</th>\n",
              "      <th>region_1</th>\n",
              "      <th>variety</th>\n",
              "      <th>winery</th>\n",
              "      <th>variety_from_winery</th>\n",
              "      <th>wine_name</th>\n",
              "      <th>points</th>\n",
              "      <th>price</th>\n",
              "      <th>description</th>\n",
              "    </tr>\n",
              "  </thead>\n",
              "  <tbody>\n",
              "    <tr>\n",
              "      <th>150909</th>\n",
              "      <td>France</td>\n",
              "      <td>Burgundy</td>\n",
              "      <td>Nuits-St.-Georges</td>\n",
              "      <td>Pinot Noir</td>\n",
              "      <td>Daniel Rion</td>\n",
              "      <td>Pinot Noir_from_Daniel Rion</td>\n",
              "      <td>Clos dea Argillieres</td>\n",
              "      <td>89</td>\n",
              "      <td>52</td>\n",
              "      <td>This is a lovely, fragrant Burgundy, with a sm...</td>\n",
              "    </tr>\n",
              "    <tr>\n",
              "      <th>150910</th>\n",
              "      <td>France</td>\n",
              "      <td>Burgundy</td>\n",
              "      <td>Chambolle-Musigny</td>\n",
              "      <td>Pinot Noir</td>\n",
              "      <td>Michel Gros</td>\n",
              "      <td>Pinot Noir_from_Michel Gros</td>\n",
              "      <td>Pinot Noir_from_Michel Gros</td>\n",
              "      <td>89</td>\n",
              "      <td>38</td>\n",
              "      <td>Scents of graham cracker and malted milk choco...</td>\n",
              "    </tr>\n",
              "    <tr>\n",
              "      <th>150911</th>\n",
              "      <td>France</td>\n",
              "      <td>Burgundy</td>\n",
              "      <td>Nuits-St.-Georges</td>\n",
              "      <td>Pinot Noir</td>\n",
              "      <td>Michel Gros</td>\n",
              "      <td>Pinot Noir_from_Michel Gros</td>\n",
              "      <td>Les Chaliots</td>\n",
              "      <td>87</td>\n",
              "      <td>37</td>\n",
              "      <td>This needs a good bit of breathing time, then ...</td>\n",
              "    </tr>\n",
              "    <tr>\n",
              "      <th>150912</th>\n",
              "      <td>France</td>\n",
              "      <td>Burgundy</td>\n",
              "      <td>Chambolle-Musigny</td>\n",
              "      <td>Pinot Noir</td>\n",
              "      <td>Daniel Rion</td>\n",
              "      <td>Pinot Noir_from_Daniel Rion</td>\n",
              "      <td>Les Charmes</td>\n",
              "      <td>87</td>\n",
              "      <td>65</td>\n",
              "      <td>The nose is dominated by the attractive scents...</td>\n",
              "    </tr>\n",
              "    <tr>\n",
              "      <th>150913</th>\n",
              "      <td>France</td>\n",
              "      <td>Rhône Valley</td>\n",
              "      <td>Châteauneuf-du-Pape</td>\n",
              "      <td>Rhône-style Red Blend</td>\n",
              "      <td>Le Vieux Donjon</td>\n",
              "      <td>Rhône-style Red Blend_from_Le Vieux Donjon</td>\n",
              "      <td>Rhône-style Red Blend_from_Le Vieux Donjon</td>\n",
              "      <td>94</td>\n",
              "      <td>30</td>\n",
              "      <td>Inky and rustic, yet in a refined manner. This...</td>\n",
              "    </tr>\n",
              "    <tr>\n",
              "      <th>150914</th>\n",
              "      <td>US</td>\n",
              "      <td>California</td>\n",
              "      <td>Anderson Valley</td>\n",
              "      <td>White Riesling</td>\n",
              "      <td>Navarro</td>\n",
              "      <td>White Riesling_from_Navarro</td>\n",
              "      <td>Late Harvest Cluster Select</td>\n",
              "      <td>94</td>\n",
              "      <td>25</td>\n",
              "      <td>Old-gold in color, and thick and syrupy. The a...</td>\n",
              "    </tr>\n",
              "    <tr>\n",
              "      <th>150915</th>\n",
              "      <td>US</td>\n",
              "      <td>California</td>\n",
              "      <td>North Coast</td>\n",
              "      <td>White Blend</td>\n",
              "      <td>Beringer</td>\n",
              "      <td>White Blend_from_Beringer</td>\n",
              "      <td>Nightingale</td>\n",
              "      <td>93</td>\n",
              "      <td>30</td>\n",
              "      <td>Decades ago, Beringer’s then-winemaker Myron N...</td>\n",
              "    </tr>\n",
              "    <tr>\n",
              "      <th>150916</th>\n",
              "      <td>US</td>\n",
              "      <td>California</td>\n",
              "      <td>Napa Valley</td>\n",
              "      <td>Champagne Blend</td>\n",
              "      <td>Schramsberg</td>\n",
              "      <td>Champagne Blend_from_Schramsberg</td>\n",
              "      <td>J. Schram</td>\n",
              "      <td>93</td>\n",
              "      <td>65</td>\n",
              "      <td>An impressive wine that presents a full bouque...</td>\n",
              "    </tr>\n",
              "    <tr>\n",
              "      <th>150917</th>\n",
              "      <td>France</td>\n",
              "      <td>Champagne</td>\n",
              "      <td>Champagne</td>\n",
              "      <td>Champagne Blend</td>\n",
              "      <td>Jacquart</td>\n",
              "      <td>Champagne Blend_from_Jacquart</td>\n",
              "      <td>Brut Mosaïque</td>\n",
              "      <td>92</td>\n",
              "      <td>30</td>\n",
              "      <td>Light and elegant, this spicy, lively wine is ...</td>\n",
              "    </tr>\n",
              "    <tr>\n",
              "      <th>150918</th>\n",
              "      <td>France</td>\n",
              "      <td>Champagne</td>\n",
              "      <td>Champagne</td>\n",
              "      <td>Champagne Blend</td>\n",
              "      <td>Jacquart</td>\n",
              "      <td>Champagne Blend_from_Jacquart</td>\n",
              "      <td>Cuvée Mosaïque</td>\n",
              "      <td>92</td>\n",
              "      <td>38</td>\n",
              "      <td>Jacquart makes a full-bodied, ripe style of Ch...</td>\n",
              "    </tr>\n",
              "    <tr>\n",
              "      <th>150919</th>\n",
              "      <td>France</td>\n",
              "      <td>Champagne</td>\n",
              "      <td>Champagne</td>\n",
              "      <td>Champagne Blend</td>\n",
              "      <td>H.Germain</td>\n",
              "      <td>Champagne Blend_from_H.Germain</td>\n",
              "      <td>Cuvée President</td>\n",
              "      <td>91</td>\n",
              "      <td>37</td>\n",
              "      <td>This classy example opens with a very floral n...</td>\n",
              "    </tr>\n",
              "    <tr>\n",
              "      <th>150920</th>\n",
              "      <td>Italy</td>\n",
              "      <td>Northeastern Italy</td>\n",
              "      <td>Trento</td>\n",
              "      <td>Champagne Blend</td>\n",
              "      <td>Letrari</td>\n",
              "      <td>Champagne Blend_from_Letrari</td>\n",
              "      <td>Brut Riserva</td>\n",
              "      <td>91</td>\n",
              "      <td>19</td>\n",
              "      <td>Rich and mature aromas of smoke, earth and her...</td>\n",
              "    </tr>\n",
              "    <tr>\n",
              "      <th>150921</th>\n",
              "      <td>France</td>\n",
              "      <td>Champagne</td>\n",
              "      <td>Champagne</td>\n",
              "      <td>Champagne Blend</td>\n",
              "      <td>Jacquart</td>\n",
              "      <td>Champagne Blend_from_Jacquart</td>\n",
              "      <td>Blanc de Blancs Brut Mosaïque</td>\n",
              "      <td>91</td>\n",
              "      <td>38</td>\n",
              "      <td>Shows some older notes: a bouquet of toasted w...</td>\n",
              "    </tr>\n",
              "    <tr>\n",
              "      <th>150923</th>\n",
              "      <td>France</td>\n",
              "      <td>Champagne</td>\n",
              "      <td>Champagne</td>\n",
              "      <td>Champagne Blend</td>\n",
              "      <td>Jacquart</td>\n",
              "      <td>Champagne Blend_from_Jacquart</td>\n",
              "      <td>Demi-Sec</td>\n",
              "      <td>91</td>\n",
              "      <td>30</td>\n",
              "      <td>Rich and toasty, with tiny bubbles. The bouque...</td>\n",
              "    </tr>\n",
              "    <tr>\n",
              "      <th>150924</th>\n",
              "      <td>France</td>\n",
              "      <td>Champagne</td>\n",
              "      <td>Champagne</td>\n",
              "      <td>Champagne Blend</td>\n",
              "      <td>Heidsieck &amp; Co Monopole</td>\n",
              "      <td>Champagne Blend_from_Heidsieck &amp; Co Monopole</td>\n",
              "      <td>Diamant Bleu</td>\n",
              "      <td>91</td>\n",
              "      <td>70</td>\n",
              "      <td>Really fine for a low-acid vintage, there's an...</td>\n",
              "    </tr>\n",
              "    <tr>\n",
              "      <th>150925</th>\n",
              "      <td>Italy</td>\n",
              "      <td>Southern Italy</td>\n",
              "      <td>Fiano di Avellino</td>\n",
              "      <td>White Blend</td>\n",
              "      <td>Feudi di San Gregorio</td>\n",
              "      <td>White Blend_from_Feudi di San Gregorio</td>\n",
              "      <td>White Blend_from_Feudi di San Gregorio</td>\n",
              "      <td>91</td>\n",
              "      <td>20</td>\n",
              "      <td>Many people feel Fiano represents southern Ita...</td>\n",
              "    </tr>\n",
              "    <tr>\n",
              "      <th>150926</th>\n",
              "      <td>France</td>\n",
              "      <td>Champagne</td>\n",
              "      <td>Champagne</td>\n",
              "      <td>Champagne Blend</td>\n",
              "      <td>H.Germain</td>\n",
              "      <td>Champagne Blend_from_H.Germain</td>\n",
              "      <td>Cuvée Prestige</td>\n",
              "      <td>91</td>\n",
              "      <td>27</td>\n",
              "      <td>Offers an intriguing nose with ginger, lime an...</td>\n",
              "    </tr>\n",
              "    <tr>\n",
              "      <th>150927</th>\n",
              "      <td>Italy</td>\n",
              "      <td>Southern Italy</td>\n",
              "      <td>Fiano di Avellino</td>\n",
              "      <td>White Blend</td>\n",
              "      <td>Terredora</td>\n",
              "      <td>White Blend_from_Terredora</td>\n",
              "      <td>Terre di Dora</td>\n",
              "      <td>91</td>\n",
              "      <td>20</td>\n",
              "      <td>This classic example comes from a cru vineyard...</td>\n",
              "    </tr>\n",
              "    <tr>\n",
              "      <th>150928</th>\n",
              "      <td>France</td>\n",
              "      <td>Champagne</td>\n",
              "      <td>Champagne</td>\n",
              "      <td>Champagne Blend</td>\n",
              "      <td>Gosset</td>\n",
              "      <td>Champagne Blend_from_Gosset</td>\n",
              "      <td>Grand Brut Rosé</td>\n",
              "      <td>90</td>\n",
              "      <td>52</td>\n",
              "      <td>A perfect salmon shade, with scents of peaches...</td>\n",
              "    </tr>\n",
              "    <tr>\n",
              "      <th>150929</th>\n",
              "      <td>Italy</td>\n",
              "      <td>Northeastern Italy</td>\n",
              "      <td>Alto Adige</td>\n",
              "      <td>Pinot Grigio</td>\n",
              "      <td>Alois Lageder</td>\n",
              "      <td>Pinot Grigio_from_Alois Lageder</td>\n",
              "      <td>Pinot Grigio_from_Alois Lageder</td>\n",
              "      <td>90</td>\n",
              "      <td>15</td>\n",
              "      <td>More Pinot Grigios should taste like this. A r...</td>\n",
              "    </tr>\n",
              "  </tbody>\n",
              "</table>\n",
              "</div>"
            ],
            "text/plain": [
              "       country  ...                                        description\n",
              "150909  France  ...  This is a lovely, fragrant Burgundy, with a sm...\n",
              "150910  France  ...  Scents of graham cracker and malted milk choco...\n",
              "150911  France  ...  This needs a good bit of breathing time, then ...\n",
              "150912  France  ...  The nose is dominated by the attractive scents...\n",
              "150913  France  ...  Inky and rustic, yet in a refined manner. This...\n",
              "150914      US  ...  Old-gold in color, and thick and syrupy. The a...\n",
              "150915      US  ...  Decades ago, Beringer’s then-winemaker Myron N...\n",
              "150916      US  ...  An impressive wine that presents a full bouque...\n",
              "150917  France  ...  Light and elegant, this spicy, lively wine is ...\n",
              "150918  France  ...  Jacquart makes a full-bodied, ripe style of Ch...\n",
              "150919  France  ...  This classy example opens with a very floral n...\n",
              "150920   Italy  ...  Rich and mature aromas of smoke, earth and her...\n",
              "150921  France  ...  Shows some older notes: a bouquet of toasted w...\n",
              "150923  France  ...  Rich and toasty, with tiny bubbles. The bouque...\n",
              "150924  France  ...  Really fine for a low-acid vintage, there's an...\n",
              "150925   Italy  ...  Many people feel Fiano represents southern Ita...\n",
              "150926  France  ...  Offers an intriguing nose with ginger, lime an...\n",
              "150927   Italy  ...  This classic example comes from a cru vineyard...\n",
              "150928  France  ...  A perfect salmon shade, with scents of peaches...\n",
              "150929   Italy  ...  More Pinot Grigios should taste like this. A r...\n",
              "\n",
              "[20 rows x 10 columns]"
            ]
          },
          "metadata": {
            "tags": []
          },
          "execution_count": 18
        }
      ]
    },
    {
      "cell_type": "markdown",
      "metadata": {
        "id": "79zK0iJPecoI"
      },
      "source": [
        ""
      ]
    },
    {
      "cell_type": "code",
      "metadata": {
        "id": "b_JPosclYPE1"
      },
      "source": [
        "# Observation: rows 150910,150913,150925,150929 now have values that are a concatenation of features \"province\" and \"variety_from_winery\""
      ],
      "execution_count": 20,
      "outputs": []
    },
    {
      "cell_type": "code",
      "metadata": {
        "colab": {
          "base_uri": "https://localhost:8080/"
        },
        "id": "6_cqIMkbe2eP",
        "outputId": "af0c560a-878b-4b2a-ef5c-6ed7327d68bc"
      },
      "source": [
        "#I know this method worked on the 4 samples I was tracking. However need to confirm that fillna method worked on entire dataset\r\n",
        "wine_all_you_want_df.info()"
      ],
      "execution_count": 21,
      "outputs": [
        {
          "output_type": "stream",
          "text": [
            "<class 'pandas.core.frame.DataFrame'>\n",
            "Int64Index: 137230 entries, 0 to 150929\n",
            "Data columns (total 10 columns):\n",
            " #   Column               Non-Null Count   Dtype \n",
            "---  ------               --------------   ----- \n",
            " 0   country              137230 non-null  object\n",
            " 1   province             137230 non-null  object\n",
            " 2   region_1             137230 non-null  object\n",
            " 3   variety              137230 non-null  object\n",
            " 4   winery               137230 non-null  object\n",
            " 5   variety_from_winery  137230 non-null  object\n",
            " 6   wine_name            137230 non-null  object\n",
            " 7   points               137230 non-null  object\n",
            " 8   price                137230 non-null  object\n",
            " 9   description          137230 non-null  object\n",
            "dtypes: object(10)\n",
            "memory usage: 11.5+ MB\n"
          ],
          "name": "stdout"
        }
      ]
    },
    {
      "cell_type": "markdown",
      "metadata": {
        "id": "EfDQ7UlRftrP"
      },
      "source": [
        "The method worked however now points and price have incorrect dtypes so I need to reassign them back to int and float."
      ]
    },
    {
      "cell_type": "code",
      "metadata": {
        "colab": {
          "base_uri": "https://localhost:8080/"
        },
        "id": "Tu0Er1AWnDXD",
        "outputId": "73c788cf-008a-48a1-c4d6-ab601fa9a660"
      },
      "source": [
        "# reassign \"points\" and \"price\" as integer and float\r\n",
        "wine_all_you_want_df = wine_all_you_want_df.astype({\r\n",
        "    \"points\": \"int\",\r\n",
        "    \"price\": \"float\"\r\n",
        "})\r\n",
        "wine_all_you_want_df.info()"
      ],
      "execution_count": 35,
      "outputs": [
        {
          "output_type": "stream",
          "text": [
            "<class 'pandas.core.frame.DataFrame'>\n",
            "Int64Index: 134428 entries, 0 to 150929\n",
            "Data columns (total 10 columns):\n",
            " #   Column               Non-Null Count   Dtype  \n",
            "---  ------               --------------   -----  \n",
            " 0   country              134428 non-null  object \n",
            " 1   province             134428 non-null  object \n",
            " 2   region_1             134428 non-null  object \n",
            " 3   variety              134428 non-null  object \n",
            " 4   winery               134428 non-null  object \n",
            " 5   variety_from_winery  134428 non-null  object \n",
            " 6   wine_name            134428 non-null  object \n",
            " 7   points               134428 non-null  int64  \n",
            " 8   price                134428 non-null  float64\n",
            " 9   description          134428 non-null  object \n",
            "dtypes: float64(1), int64(1), object(8)\n",
            "memory usage: 11.3+ MB\n"
          ],
          "name": "stdout"
        }
      ]
    },
    {
      "cell_type": "markdown",
      "metadata": {
        "id": "PaZjtZKviBPu"
      },
      "source": [
        "Determine if the feature samples are large enough to provide sufficient visualization. Drop those that are not large enough to allow me to reduce the amount of countries to make data easier to visual."
      ]
    },
    {
      "cell_type": "code",
      "metadata": {
        "id": "MubctBEIfci6",
        "colab": {
          "base_uri": "https://localhost:8080/"
        },
        "outputId": "4804f9cc-358e-422d-8edd-7319f858b0c6"
      },
      "source": [
        "# determine number of individual countries\r\n",
        "wine_all_you_want_df[\"country\"].nunique()"
      ],
      "execution_count": 36,
      "outputs": [
        {
          "output_type": "execute_result",
          "data": {
            "text/plain": [
              "12"
            ]
          },
          "metadata": {
            "tags": []
          },
          "execution_count": 36
        }
      ]
    },
    {
      "cell_type": "code",
      "metadata": {
        "colab": {
          "base_uri": "https://localhost:8080/"
        },
        "id": "DKFfXqoujNiN",
        "outputId": "a16f9049-999d-4a84-aacb-632e5d68b1f2"
      },
      "source": [
        "# how many wines per country\r\n",
        "wine_all_you_want_df[\"country\"].value_counts()"
      ],
      "execution_count": 37,
      "outputs": [
        {
          "output_type": "execute_result",
          "data": {
            "text/plain": [
              "US              62139\n",
              "Italy           18784\n",
              "France          14785\n",
              "Spain            8160\n",
              "Chile            5766\n",
              "Argentina        5587\n",
              "Australia        4894\n",
              "Portugal         4176\n",
              "New Zealand      3070\n",
              "Austria          2483\n",
              "Germany          2347\n",
              "South Africa     2237\n",
              "Name: country, dtype: int64"
            ]
          },
          "metadata": {
            "tags": []
          },
          "execution_count": 37
        }
      ]
    },
    {
      "cell_type": "markdown",
      "metadata": {
        "id": "6tyhuJa2jyNc"
      },
      "source": [
        "There are 46 countries but by reducing the amount of countries to the top 12 it allows me to visualize better by using a unique color for each country."
      ]
    },
    {
      "cell_type": "code",
      "metadata": {
        "colab": {
          "base_uri": "https://localhost:8080/"
        },
        "id": "xXMtSPzlje-P",
        "outputId": "e555a80d-c697-44b2-a242-e9493ac3a727"
      },
      "source": [
        "# drop any countries that don't have at least 2000 wines\r\n",
        "wine_all_you_want_df = wine_all_you_want_df[wine_all_you_want_df.groupby(\"country\")[\"country\"].transform(\"size\")>=2000]\r\n",
        "wine_all_you_want_df[\"country\"].value_counts()"
      ],
      "execution_count": 38,
      "outputs": [
        {
          "output_type": "execute_result",
          "data": {
            "text/plain": [
              "US              62139\n",
              "Italy           18784\n",
              "France          14785\n",
              "Spain            8160\n",
              "Chile            5766\n",
              "Argentina        5587\n",
              "Australia        4894\n",
              "Portugal         4176\n",
              "New Zealand      3070\n",
              "Austria          2483\n",
              "Germany          2347\n",
              "South Africa     2237\n",
              "Name: country, dtype: int64"
            ]
          },
          "metadata": {
            "tags": []
          },
          "execution_count": 38
        }
      ]
    },
    {
      "cell_type": "markdown",
      "metadata": {
        "id": "tUKUFTcWlEuV"
      },
      "source": [
        "This reduction results in just a dozen countries"
      ]
    },
    {
      "cell_type": "code",
      "metadata": {
        "id": "x25J2Q2nkhq-"
      },
      "source": [
        "Now I wish to explore the spread of the data, an earlier notebook I did showed the presence of outliers and I want to remove them."
      ],
      "execution_count": null,
      "outputs": []
    },
    {
      "cell_type": "code",
      "metadata": {
        "id": "5uV3XDJ_mAj8"
      },
      "source": [
        "import matplotlib.pyplot as plt\r\n"
      ],
      "execution_count": 39,
      "outputs": []
    },
    {
      "cell_type": "code",
      "metadata": {
        "colab": {
          "base_uri": "https://localhost:8080/",
          "height": 331
        },
        "id": "vHR7Bwi_lg3r",
        "outputId": "ff894a20-3c73-4e79-9a56-553efd560fcd"
      },
      "source": [
        "wine_all_you_want_df.hist(bins=20)"
      ],
      "execution_count": 40,
      "outputs": [
        {
          "output_type": "execute_result",
          "data": {
            "text/plain": [
              "array([[<matplotlib.axes._subplots.AxesSubplot object at 0x7f863cf41d68>,\n",
              "        <matplotlib.axes._subplots.AxesSubplot object at 0x7f863ceb0ba8>]],\n",
              "      dtype=object)"
            ]
          },
          "metadata": {
            "tags": []
          },
          "execution_count": 40
        },
        {
          "output_type": "display_data",
          "data": {
            "image/png": "[encoded data removed]",
            "text/plain": [
              "<Figure size 432x288 with 2 Axes>"
            ]
          },
          "metadata": {
            "tags": [],
            "needs_background": "light"
          }
        }
      ]
    },
    {
      "cell_type": "code",
      "metadata": {
        "colab": {
          "base_uri": "https://localhost:8080/",
          "height": 415
        },
        "id": "DShPaQAvn48r",
        "outputId": "4cea4a15-6029-45fd-d349-df2b0909a941"
      },
      "source": [
        "# Obvious from visualization above that there's an issue with price so explore closer \r\n",
        "blue_circle = dict(markerfacecolor=\"purple\", marker=\"o\")\r\n",
        "plt.title(\"Price\")\r\n",
        "plt.boxplot(wine_all_you_want_df[\"price\"], vert=False, flierprops=blue_circle)"
      ],
      "execution_count": 43,
      "outputs": [
        {
          "output_type": "execute_result",
          "data": {
            "text/plain": [
              "{'boxes': [<matplotlib.lines.Line2D at 0x7f863c4bb208>],\n",
              " 'caps': [<matplotlib.lines.Line2D at 0x7f863c4bbc18>,\n",
              "  <matplotlib.lines.Line2D at 0x7f863c4bbf98>],\n",
              " 'fliers': [<matplotlib.lines.Line2D at 0x7f863c4c56d8>],\n",
              " 'means': [],\n",
              " 'medians': [<matplotlib.lines.Line2D at 0x7f863c4c5358>],\n",
              " 'whiskers': [<matplotlib.lines.Line2D at 0x7f863c4bb518>,\n",
              "  <matplotlib.lines.Line2D at 0x7f863c4bb898>]}"
            ]
          },
          "metadata": {
            "tags": []
          },
          "execution_count": 43
        },
        {
          "output_type": "display_data",
          "data": {
            "image/png": "[encoded data removed]",
            "text/plain": [
              "<Figure size 432x288 with 1 Axes>"
            ]
          },
          "metadata": {
            "tags": [],
            "needs_background": "light"
          }
        }
      ]
    },
    {
      "cell_type": "markdown",
      "metadata": {
        "id": "kEKuQe7oot_b"
      },
      "source": [
        "The majority of the wine is in the under $1000 price point. Now I wish to explore the statistics for points and price."
      ]
    },
    {
      "cell_type": "code",
      "metadata": {
        "colab": {
          "base_uri": "https://localhost:8080/",
          "height": 284
        },
        "id": "rBlbohAzo8Uq",
        "outputId": "0963f25d-6220-434a-b3d1-91b8e8576525"
      },
      "source": [
        "wine_all_you_want_df.describe()"
      ],
      "execution_count": 44,
      "outputs": [
        {
          "output_type": "execute_result",
          "data": {
            "text/html": [
              "<div>\n",
              "<style scoped>\n",
              "    .dataframe tbody tr th:only-of-type {\n",
              "        vertical-align: middle;\n",
              "    }\n",
              "\n",
              "    .dataframe tbody tr th {\n",
              "        vertical-align: top;\n",
              "    }\n",
              "\n",
              "    .dataframe thead th {\n",
              "        text-align: right;\n",
              "    }\n",
              "</style>\n",
              "<table border=\"1\" class=\"dataframe\">\n",
              "  <thead>\n",
              "    <tr style=\"text-align: right;\">\n",
              "      <th></th>\n",
              "      <th>points</th>\n",
              "      <th>price</th>\n",
              "    </tr>\n",
              "  </thead>\n",
              "  <tbody>\n",
              "    <tr>\n",
              "      <th>count</th>\n",
              "      <td>134428.000000</td>\n",
              "      <td>134428.000000</td>\n",
              "    </tr>\n",
              "    <tr>\n",
              "      <th>mean</th>\n",
              "      <td>87.815596</td>\n",
              "      <td>33.273403</td>\n",
              "    </tr>\n",
              "    <tr>\n",
              "      <th>std</th>\n",
              "      <td>3.226281</td>\n",
              "      <td>36.494229</td>\n",
              "    </tr>\n",
              "    <tr>\n",
              "      <th>min</th>\n",
              "      <td>80.000000</td>\n",
              "      <td>4.000000</td>\n",
              "    </tr>\n",
              "    <tr>\n",
              "      <th>25%</th>\n",
              "      <td>86.000000</td>\n",
              "      <td>16.000000</td>\n",
              "    </tr>\n",
              "    <tr>\n",
              "      <th>50%</th>\n",
              "      <td>88.000000</td>\n",
              "      <td>24.000000</td>\n",
              "    </tr>\n",
              "    <tr>\n",
              "      <th>75%</th>\n",
              "      <td>90.000000</td>\n",
              "      <td>40.000000</td>\n",
              "    </tr>\n",
              "    <tr>\n",
              "      <th>max</th>\n",
              "      <td>100.000000</td>\n",
              "      <td>2300.000000</td>\n",
              "    </tr>\n",
              "  </tbody>\n",
              "</table>\n",
              "</div>"
            ],
            "text/plain": [
              "              points          price\n",
              "count  134428.000000  134428.000000\n",
              "mean       87.815596      33.273403\n",
              "std         3.226281      36.494229\n",
              "min        80.000000       4.000000\n",
              "25%        86.000000      16.000000\n",
              "50%        88.000000      24.000000\n",
              "75%        90.000000      40.000000\n",
              "max       100.000000    2300.000000"
            ]
          },
          "metadata": {
            "tags": []
          },
          "execution_count": 44
        }
      ]
    },
    {
      "cell_type": "code",
      "metadata": {
        "id": "zVflOXAhpFTT"
      },
      "source": [
        "# Thanks to Python Data Science handbook page 175 use sigma clipping to identify outliers (if you are familiar with Six Sigma principles you may have heard of yellow  belt, green belt, black belt)\r\n",
        "quartiles = np.percentile(wine_all_you_want_df[\"price\"], [25, 50, 75])\r\n",
        "mu = quartiles[1]\r\n",
        "sig = 0.74 * (quartiles[2] - quartiles[0])\r\n",
        "wine_all_you_want_df = wine_all_you_want_df.query(\"(price > @mu - 5 * @sig) & (price < @mu + 5 * @sig)\")"
      ],
      "execution_count": 46,
      "outputs": []
    },
    {
      "cell_type": "code",
      "metadata": {
        "colab": {
          "base_uri": "https://localhost:8080/"
        },
        "id": "1JpmseHop5MD",
        "outputId": "0a5b2186-c3e1-4f50-cfcf-7d018ab2b928"
      },
      "source": [
        "print(f\"the 25, 50, and 75 quartiles are: {quartiles}\")\r\n",
        "print(f\" mu (central tendency): {mu}\")\r\n",
        "print(f\" sig (spread of data): {sig}\")\r\n",
        "print(f\" interquartile range: {quartiles[2] - quartiles[0]}\")"
      ],
      "execution_count": 47,
      "outputs": [
        {
          "output_type": "stream",
          "text": [
            "the 25, 50, and 75 quartiles are: [16. 24. 40.]\n",
            " mu (central tendency): 24.0\n",
            " sig (spread of data): 17.759999999999998\n",
            " interquartile range: 24.0\n"
          ],
          "name": "stdout"
        }
      ]
    },
    {
      "cell_type": "code",
      "metadata": {
        "id": "Id6T4ZMCqZSk"
      },
      "source": [
        ""
      ],
      "execution_count": null,
      "outputs": []
    }
  ]
}