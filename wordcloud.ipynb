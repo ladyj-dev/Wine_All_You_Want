{
  "nbformat": 4,
  "nbformat_minor": 0,
  "metadata": {
    "colab": {
      "name": "wordcloud.ipynb",
      "provenance": [],
      "collapsed_sections": [],
      "authorship_tag": "ABX9TyOT3/CF9aNshDc7s2OXwnLw",
      "include_colab_link": true
    },
    "kernelspec": {
      "display_name": "Python 3",
      "name": "python3"
    }
  },
  "cells": [
    {
      "cell_type": "markdown",
      "metadata": {
        "id": "view-in-github",
        "colab_type": "text"
      },
      "source": [
        "<a href=\"https://colab.research.google.com/github/ladyj-dev/Wine_All_You_Want/blob/main/wordcloud.ipynb\" target=\"_parent\"><img src=\"https://colab.research.google.com/assets/colab-badge.svg\" alt=\"Open In Colab\"/></a>"
      ]
    },
    {
      "cell_type": "code",
      "metadata": {
        "colab": {
          "base_uri": "https://localhost:8080/"
        },
        "id": "5v6EOfe2RmAq",
        "outputId": "2175e5f4-bdca-419e-e2f9-691061e57ec0"
      },
      "source": [
        "!pip install wordcloud"
      ],
      "execution_count": 1,
      "outputs": [
        {
          "output_type": "stream",
          "text": [
            "Requirement already satisfied: wordcloud in /usr/local/lib/python3.6/dist-packages (1.5.0)\n",
            "Requirement already satisfied: pillow in /usr/local/lib/python3.6/dist-packages (from wordcloud) (7.0.0)\n",
            "Requirement already satisfied: numpy>=1.6.1 in /usr/local/lib/python3.6/dist-packages (from wordcloud) (1.19.5)\n"
          ],
          "name": "stdout"
        }
      ]
    },
    {
      "cell_type": "markdown",
      "metadata": {
        "id": "PLdG38jfTV4N"
      },
      "source": [
        "Import dependencies with the goal of creating a wine wordcloud based on descriptions and/or varieties of wine"
      ]
    },
    {
      "cell_type": "code",
      "metadata": {
        "id": "_SLXYLakRrBj"
      },
      "source": [
        "import pandas as pd\r\n"
      ],
      "execution_count": 2,
      "outputs": []
    },
    {
      "cell_type": "code",
      "metadata": {
        "id": "G8jATc15Ruk2"
      },
      "source": [
        "import numpy as np\r\n"
      ],
      "execution_count": 3,
      "outputs": []
    },
    {
      "cell_type": "code",
      "metadata": {
        "id": "daPjKtKbRw_g"
      },
      "source": [
        "import matplotlib.pyplot as plt\r\n",
        "import seaborn as seaborn\r\n",
        "import math"
      ],
      "execution_count": 4,
      "outputs": []
    },
    {
      "cell_type": "code",
      "metadata": {
        "id": "dCbl1TF2R_H1"
      },
      "source": [
        "from sklearn.model_selection import train_test_split\r\n",
        "from sklearn.metrics import plot_precision_recall_curve\r\n",
        "from sklearn.linear_model import  LogisticRegression\r\n",
        "from sklearn.feature_extraction.text import CountVectorizer\r\n",
        "from joblib import dump\r\n",
        "from joblib import load"
      ],
      "execution_count": 5,
      "outputs": []
    },
    {
      "cell_type": "code",
      "metadata": {
        "id": "Gsd9_1YoSnDn"
      },
      "source": [
        "csv_file = \"https://winedata150k.s3.us-east-2.amazonaws.com/winemag-data_first150k.csv\""
      ],
      "execution_count": 6,
      "outputs": []
    },
    {
      "cell_type": "code",
      "metadata": {
        "id": "BgfcW2B4TpRQ"
      },
      "source": [
        "word_cloud_df = pd.read_csv(csv_file)"
      ],
      "execution_count": 7,
      "outputs": []
    },
    {
      "cell_type": "code",
      "metadata": {
        "colab": {
          "base_uri": "https://localhost:8080/",
          "height": 1000
        },
        "id": "kenqtHYTTyDy",
        "outputId": "ba9deced-71ef-46ab-a3ee-09e4e565e32c"
      },
      "source": [
        "word_cloud_df.head(25)"
      ],
      "execution_count": 8,
      "outputs": [
        {
          "output_type": "execute_result",
          "data": {
            "text/html": [
              "<div>\n",
              "<style scoped>\n",
              "    .dataframe tbody tr th:only-of-type {\n",
              "        vertical-align: middle;\n",
              "    }\n",
              "\n",
              "    .dataframe tbody tr th {\n",
              "        vertical-align: top;\n",
              "    }\n",
              "\n",
              "    .dataframe thead th {\n",
              "        text-align: right;\n",
              "    }\n",
              "</style>\n",
              "<table border=\"1\" class=\"dataframe\">\n",
              "  <thead>\n",
              "    <tr style=\"text-align: right;\">\n",
              "      <th></th>\n",
              "      <th>Unnamed: 0</th>\n",
              "      <th>country</th>\n",
              "      <th>description</th>\n",
              "      <th>designation</th>\n",
              "      <th>points</th>\n",
              "      <th>price</th>\n",
              "      <th>province</th>\n",
              "      <th>region_1</th>\n",
              "      <th>region_2</th>\n",
              "      <th>variety</th>\n",
              "      <th>winery</th>\n",
              "    </tr>\n",
              "  </thead>\n",
              "  <tbody>\n",
              "    <tr>\n",
              "      <th>0</th>\n",
              "      <td>0</td>\n",
              "      <td>US</td>\n",
              "      <td>This tremendous 100% varietal wine hails from ...</td>\n",
              "      <td>Martha's Vineyard</td>\n",
              "      <td>96</td>\n",
              "      <td>235.0</td>\n",
              "      <td>California</td>\n",
              "      <td>Napa Valley</td>\n",
              "      <td>Napa</td>\n",
              "      <td>Cabernet Sauvignon</td>\n",
              "      <td>Heitz</td>\n",
              "    </tr>\n",
              "    <tr>\n",
              "      <th>1</th>\n",
              "      <td>1</td>\n",
              "      <td>Spain</td>\n",
              "      <td>Ripe aromas of fig, blackberry and cassis are ...</td>\n",
              "      <td>Carodorum Selección Especial Reserva</td>\n",
              "      <td>96</td>\n",
              "      <td>110.0</td>\n",
              "      <td>Northern Spain</td>\n",
              "      <td>Toro</td>\n",
              "      <td>NaN</td>\n",
              "      <td>Tinta de Toro</td>\n",
              "      <td>Bodega Carmen Rodríguez</td>\n",
              "    </tr>\n",
              "    <tr>\n",
              "      <th>2</th>\n",
              "      <td>2</td>\n",
              "      <td>US</td>\n",
              "      <td>Mac Watson honors the memory of a wine once ma...</td>\n",
              "      <td>Special Selected Late Harvest</td>\n",
              "      <td>96</td>\n",
              "      <td>90.0</td>\n",
              "      <td>California</td>\n",
              "      <td>Knights Valley</td>\n",
              "      <td>Sonoma</td>\n",
              "      <td>Sauvignon Blanc</td>\n",
              "      <td>Macauley</td>\n",
              "    </tr>\n",
              "    <tr>\n",
              "      <th>3</th>\n",
              "      <td>3</td>\n",
              "      <td>US</td>\n",
              "      <td>This spent 20 months in 30% new French oak, an...</td>\n",
              "      <td>Reserve</td>\n",
              "      <td>96</td>\n",
              "      <td>65.0</td>\n",
              "      <td>Oregon</td>\n",
              "      <td>Willamette Valley</td>\n",
              "      <td>Willamette Valley</td>\n",
              "      <td>Pinot Noir</td>\n",
              "      <td>Ponzi</td>\n",
              "    </tr>\n",
              "    <tr>\n",
              "      <th>4</th>\n",
              "      <td>4</td>\n",
              "      <td>France</td>\n",
              "      <td>This is the top wine from La Bégude, named aft...</td>\n",
              "      <td>La Brûlade</td>\n",
              "      <td>95</td>\n",
              "      <td>66.0</td>\n",
              "      <td>Provence</td>\n",
              "      <td>Bandol</td>\n",
              "      <td>NaN</td>\n",
              "      <td>Provence red blend</td>\n",
              "      <td>Domaine de la Bégude</td>\n",
              "    </tr>\n",
              "    <tr>\n",
              "      <th>5</th>\n",
              "      <td>5</td>\n",
              "      <td>Spain</td>\n",
              "      <td>Deep, dense and pure from the opening bell, th...</td>\n",
              "      <td>Numanthia</td>\n",
              "      <td>95</td>\n",
              "      <td>73.0</td>\n",
              "      <td>Northern Spain</td>\n",
              "      <td>Toro</td>\n",
              "      <td>NaN</td>\n",
              "      <td>Tinta de Toro</td>\n",
              "      <td>Numanthia</td>\n",
              "    </tr>\n",
              "    <tr>\n",
              "      <th>6</th>\n",
              "      <td>6</td>\n",
              "      <td>Spain</td>\n",
              "      <td>Slightly gritty black-fruit aromas include a s...</td>\n",
              "      <td>San Román</td>\n",
              "      <td>95</td>\n",
              "      <td>65.0</td>\n",
              "      <td>Northern Spain</td>\n",
              "      <td>Toro</td>\n",
              "      <td>NaN</td>\n",
              "      <td>Tinta de Toro</td>\n",
              "      <td>Maurodos</td>\n",
              "    </tr>\n",
              "    <tr>\n",
              "      <th>7</th>\n",
              "      <td>7</td>\n",
              "      <td>Spain</td>\n",
              "      <td>Lush cedary black-fruit aromas are luxe and of...</td>\n",
              "      <td>Carodorum Único Crianza</td>\n",
              "      <td>95</td>\n",
              "      <td>110.0</td>\n",
              "      <td>Northern Spain</td>\n",
              "      <td>Toro</td>\n",
              "      <td>NaN</td>\n",
              "      <td>Tinta de Toro</td>\n",
              "      <td>Bodega Carmen Rodríguez</td>\n",
              "    </tr>\n",
              "    <tr>\n",
              "      <th>8</th>\n",
              "      <td>8</td>\n",
              "      <td>US</td>\n",
              "      <td>This re-named vineyard was formerly bottled as...</td>\n",
              "      <td>Silice</td>\n",
              "      <td>95</td>\n",
              "      <td>65.0</td>\n",
              "      <td>Oregon</td>\n",
              "      <td>Chehalem Mountains</td>\n",
              "      <td>Willamette Valley</td>\n",
              "      <td>Pinot Noir</td>\n",
              "      <td>Bergström</td>\n",
              "    </tr>\n",
              "    <tr>\n",
              "      <th>9</th>\n",
              "      <td>9</td>\n",
              "      <td>US</td>\n",
              "      <td>The producer sources from two blocks of the vi...</td>\n",
              "      <td>Gap's Crown Vineyard</td>\n",
              "      <td>95</td>\n",
              "      <td>60.0</td>\n",
              "      <td>California</td>\n",
              "      <td>Sonoma Coast</td>\n",
              "      <td>Sonoma</td>\n",
              "      <td>Pinot Noir</td>\n",
              "      <td>Blue Farm</td>\n",
              "    </tr>\n",
              "    <tr>\n",
              "      <th>10</th>\n",
              "      <td>10</td>\n",
              "      <td>Italy</td>\n",
              "      <td>Elegance, complexity and structure come togeth...</td>\n",
              "      <td>Ronco della Chiesa</td>\n",
              "      <td>95</td>\n",
              "      <td>80.0</td>\n",
              "      <td>Northeastern Italy</td>\n",
              "      <td>Collio</td>\n",
              "      <td>NaN</td>\n",
              "      <td>Friulano</td>\n",
              "      <td>Borgo del Tiglio</td>\n",
              "    </tr>\n",
              "    <tr>\n",
              "      <th>11</th>\n",
              "      <td>11</td>\n",
              "      <td>US</td>\n",
              "      <td>From 18-year-old vines, this supple well-balan...</td>\n",
              "      <td>Estate Vineyard Wadensvil Block</td>\n",
              "      <td>95</td>\n",
              "      <td>48.0</td>\n",
              "      <td>Oregon</td>\n",
              "      <td>Ribbon Ridge</td>\n",
              "      <td>Willamette Valley</td>\n",
              "      <td>Pinot Noir</td>\n",
              "      <td>Patricia Green Cellars</td>\n",
              "    </tr>\n",
              "    <tr>\n",
              "      <th>12</th>\n",
              "      <td>12</td>\n",
              "      <td>US</td>\n",
              "      <td>A standout even in this terrific lineup of 201...</td>\n",
              "      <td>Weber Vineyard</td>\n",
              "      <td>95</td>\n",
              "      <td>48.0</td>\n",
              "      <td>Oregon</td>\n",
              "      <td>Dundee Hills</td>\n",
              "      <td>Willamette Valley</td>\n",
              "      <td>Pinot Noir</td>\n",
              "      <td>Patricia Green Cellars</td>\n",
              "    </tr>\n",
              "    <tr>\n",
              "      <th>13</th>\n",
              "      <td>13</td>\n",
              "      <td>France</td>\n",
              "      <td>This wine is in peak condition. The tannins an...</td>\n",
              "      <td>Château Montus Prestige</td>\n",
              "      <td>95</td>\n",
              "      <td>90.0</td>\n",
              "      <td>Southwest France</td>\n",
              "      <td>Madiran</td>\n",
              "      <td>NaN</td>\n",
              "      <td>Tannat</td>\n",
              "      <td>Vignobles Brumont</td>\n",
              "    </tr>\n",
              "    <tr>\n",
              "      <th>14</th>\n",
              "      <td>14</td>\n",
              "      <td>US</td>\n",
              "      <td>With its sophisticated mix of mineral, acid an...</td>\n",
              "      <td>Grace Vineyard</td>\n",
              "      <td>95</td>\n",
              "      <td>185.0</td>\n",
              "      <td>Oregon</td>\n",
              "      <td>Dundee Hills</td>\n",
              "      <td>Willamette Valley</td>\n",
              "      <td>Pinot Noir</td>\n",
              "      <td>Domaine Serene</td>\n",
              "    </tr>\n",
              "    <tr>\n",
              "      <th>15</th>\n",
              "      <td>15</td>\n",
              "      <td>US</td>\n",
              "      <td>First made in 2006, this succulent luscious Ch...</td>\n",
              "      <td>Sigrid</td>\n",
              "      <td>95</td>\n",
              "      <td>90.0</td>\n",
              "      <td>Oregon</td>\n",
              "      <td>Willamette Valley</td>\n",
              "      <td>Willamette Valley</td>\n",
              "      <td>Chardonnay</td>\n",
              "      <td>Bergström</td>\n",
              "    </tr>\n",
              "    <tr>\n",
              "      <th>16</th>\n",
              "      <td>16</td>\n",
              "      <td>US</td>\n",
              "      <td>This blockbuster, powerhouse of a wine suggest...</td>\n",
              "      <td>Rainin Vineyard</td>\n",
              "      <td>95</td>\n",
              "      <td>325.0</td>\n",
              "      <td>California</td>\n",
              "      <td>Diamond Mountain District</td>\n",
              "      <td>Napa</td>\n",
              "      <td>Cabernet Sauvignon</td>\n",
              "      <td>Hall</td>\n",
              "    </tr>\n",
              "    <tr>\n",
              "      <th>17</th>\n",
              "      <td>17</td>\n",
              "      <td>Spain</td>\n",
              "      <td>Nicely oaked blackberry, licorice, vanilla and...</td>\n",
              "      <td>6 Años Reserva Premium</td>\n",
              "      <td>95</td>\n",
              "      <td>80.0</td>\n",
              "      <td>Northern Spain</td>\n",
              "      <td>Ribera del Duero</td>\n",
              "      <td>NaN</td>\n",
              "      <td>Tempranillo</td>\n",
              "      <td>Valduero</td>\n",
              "    </tr>\n",
              "    <tr>\n",
              "      <th>18</th>\n",
              "      <td>18</td>\n",
              "      <td>France</td>\n",
              "      <td>Coming from a seven-acre vineyard named after ...</td>\n",
              "      <td>Le Pigeonnier</td>\n",
              "      <td>95</td>\n",
              "      <td>290.0</td>\n",
              "      <td>Southwest France</td>\n",
              "      <td>Cahors</td>\n",
              "      <td>NaN</td>\n",
              "      <td>Malbec</td>\n",
              "      <td>Château Lagrézette</td>\n",
              "    </tr>\n",
              "    <tr>\n",
              "      <th>19</th>\n",
              "      <td>19</td>\n",
              "      <td>US</td>\n",
              "      <td>This fresh and lively medium-bodied wine is be...</td>\n",
              "      <td>Gap's Crown Vineyard</td>\n",
              "      <td>95</td>\n",
              "      <td>75.0</td>\n",
              "      <td>California</td>\n",
              "      <td>Sonoma Coast</td>\n",
              "      <td>Sonoma</td>\n",
              "      <td>Pinot Noir</td>\n",
              "      <td>Gary Farrell</td>\n",
              "    </tr>\n",
              "    <tr>\n",
              "      <th>20</th>\n",
              "      <td>20</td>\n",
              "      <td>US</td>\n",
              "      <td>Heitz has made this stellar rosé from the rare...</td>\n",
              "      <td>Grignolino</td>\n",
              "      <td>95</td>\n",
              "      <td>24.0</td>\n",
              "      <td>California</td>\n",
              "      <td>Napa Valley</td>\n",
              "      <td>Napa</td>\n",
              "      <td>Rosé</td>\n",
              "      <td>Heitz</td>\n",
              "    </tr>\n",
              "    <tr>\n",
              "      <th>21</th>\n",
              "      <td>21</td>\n",
              "      <td>Spain</td>\n",
              "      <td>Alluring, complex and powerful aromas of grill...</td>\n",
              "      <td>Prado Enea Gran Reserva</td>\n",
              "      <td>95</td>\n",
              "      <td>79.0</td>\n",
              "      <td>Northern Spain</td>\n",
              "      <td>Rioja</td>\n",
              "      <td>NaN</td>\n",
              "      <td>Tempranillo Blend</td>\n",
              "      <td>Muga</td>\n",
              "    </tr>\n",
              "    <tr>\n",
              "      <th>22</th>\n",
              "      <td>22</td>\n",
              "      <td>Spain</td>\n",
              "      <td>Tarry blackberry and cheesy oak aromas are app...</td>\n",
              "      <td>Termanthia</td>\n",
              "      <td>95</td>\n",
              "      <td>220.0</td>\n",
              "      <td>Northern Spain</td>\n",
              "      <td>Toro</td>\n",
              "      <td>NaN</td>\n",
              "      <td>Tinta de Toro</td>\n",
              "      <td>Numanthia</td>\n",
              "    </tr>\n",
              "    <tr>\n",
              "      <th>23</th>\n",
              "      <td>23</td>\n",
              "      <td>US</td>\n",
              "      <td>The apogee of this ambitious winery's white wi...</td>\n",
              "      <td>Giallo Solare</td>\n",
              "      <td>95</td>\n",
              "      <td>60.0</td>\n",
              "      <td>California</td>\n",
              "      <td>Edna Valley</td>\n",
              "      <td>Central Coast</td>\n",
              "      <td>Chardonnay</td>\n",
              "      <td>Center of Effort</td>\n",
              "    </tr>\n",
              "    <tr>\n",
              "      <th>24</th>\n",
              "      <td>24</td>\n",
              "      <td>US</td>\n",
              "      <td>San Jose-based producer Adam Comartin heads 1,...</td>\n",
              "      <td>R-Bar-R Ranch</td>\n",
              "      <td>95</td>\n",
              "      <td>45.0</td>\n",
              "      <td>California</td>\n",
              "      <td>Santa Cruz Mountains</td>\n",
              "      <td>Central Coast</td>\n",
              "      <td>Pinot Noir</td>\n",
              "      <td>Comartin</td>\n",
              "    </tr>\n",
              "  </tbody>\n",
              "</table>\n",
              "</div>"
            ],
            "text/plain": [
              "    Unnamed: 0 country  ...             variety                   winery\n",
              "0            0      US  ...  Cabernet Sauvignon                    Heitz\n",
              "1            1   Spain  ...       Tinta de Toro  Bodega Carmen Rodríguez\n",
              "2            2      US  ...     Sauvignon Blanc                 Macauley\n",
              "3            3      US  ...          Pinot Noir                    Ponzi\n",
              "4            4  France  ...  Provence red blend     Domaine de la Bégude\n",
              "5            5   Spain  ...       Tinta de Toro                Numanthia\n",
              "6            6   Spain  ...       Tinta de Toro                 Maurodos\n",
              "7            7   Spain  ...       Tinta de Toro  Bodega Carmen Rodríguez\n",
              "8            8      US  ...          Pinot Noir                Bergström\n",
              "9            9      US  ...          Pinot Noir                Blue Farm\n",
              "10          10   Italy  ...            Friulano         Borgo del Tiglio\n",
              "11          11      US  ...          Pinot Noir   Patricia Green Cellars\n",
              "12          12      US  ...          Pinot Noir   Patricia Green Cellars\n",
              "13          13  France  ...              Tannat        Vignobles Brumont\n",
              "14          14      US  ...          Pinot Noir           Domaine Serene\n",
              "15          15      US  ...          Chardonnay                Bergström\n",
              "16          16      US  ...  Cabernet Sauvignon                     Hall\n",
              "17          17   Spain  ...         Tempranillo                 Valduero\n",
              "18          18  France  ...              Malbec       Château Lagrézette\n",
              "19          19      US  ...          Pinot Noir             Gary Farrell\n",
              "20          20      US  ...                Rosé                    Heitz\n",
              "21          21   Spain  ...   Tempranillo Blend                     Muga\n",
              "22          22   Spain  ...       Tinta de Toro                Numanthia\n",
              "23          23      US  ...          Chardonnay         Center of Effort\n",
              "24          24      US  ...          Pinot Noir                 Comartin\n",
              "\n",
              "[25 rows x 11 columns]"
            ]
          },
          "metadata": {
            "tags": []
          },
          "execution_count": 8
        }
      ]
    },
    {
      "cell_type": "markdown",
      "metadata": {
        "id": "rpbW1kWXUF6q"
      },
      "source": [
        "Visualize correlations between features of the data"
      ]
    },
    {
      "cell_type": "code",
      "metadata": {
        "colab": {
          "base_uri": "https://localhost:8080/",
          "height": 298
        },
        "id": "z_fpeI7QUEmc",
        "outputId": "9ac62e8d-4dbd-44ef-ed99-fffa89900d7f"
      },
      "source": [
        "# correlation between points and price\r\n",
        "seaborn.barplot(x = 'points', y = 'price', data = word_cloud_df)"
      ],
      "execution_count": 9,
      "outputs": [
        {
          "output_type": "execute_result",
          "data": {
            "text/plain": [
              "<matplotlib.axes._subplots.AxesSubplot at 0x7f9a6b701860>"
            ]
          },
          "metadata": {
            "tags": []
          },
          "execution_count": 9
        },
        {
          "output_type": "display_data",
          "data": {
            "image/png": "[encoded data removed]",
            "text/plain": [
              "<Figure size 432x288 with 1 Axes>"
            ]
          },
          "metadata": {
            "tags": [],
            "needs_background": "light"
          }
        }
      ]
    },
    {
      "cell_type": "code",
      "metadata": {
        "colab": {
          "base_uri": "https://localhost:8080/",
          "height": 296
        },
        "id": "9ZBXK5nBUiXw",
        "outputId": "84731170-4a25-417d-ba66-617e0d1025ea"
      },
      "source": [
        "seaborn.boxplot(x = 'points', y = 'price', data = word_cloud_df)"
      ],
      "execution_count": 10,
      "outputs": [
        {
          "output_type": "execute_result",
          "data": {
            "text/plain": [
              "<matplotlib.axes._subplots.AxesSubplot at 0x7f9a6b5e4710>"
            ]
          },
          "metadata": {
            "tags": []
          },
          "execution_count": 10
        },
        {
          "output_type": "display_data",
          "data": {
            "image/png": "[encoded data removed]",
            "text/plain": [
              "<Figure size 432x288 with 1 Axes>"
            ]
          },
          "metadata": {
            "tags": [],
            "needs_background": "light"
          }
        }
      ]
    },
    {
      "cell_type": "markdown",
      "metadata": {
        "id": "rFc_LniEUr1q"
      },
      "source": [
        "It appears from the visualizations above overall price increases as points increase in this dataset between $0 to $600. However when price goes above $600 there's some anomalies where for example there's a 91 point wine thats $2000. Yet there's wine in the 92-98 point range cheaper than $2000."
      ]
    },
    {
      "cell_type": "markdown",
      "metadata": {
        "id": "kihCKa4uWEHq"
      },
      "source": [
        "Create a word cloud to visualize the description column's text. These descriptions will assist with prediction models later on."
      ]
    },
    {
      "cell_type": "code",
      "metadata": {
        "id": "v5hN47a0U9JK"
      },
      "source": [
        "# import dependencies\r\n",
        "from wordcloud import WordCloud\r\n",
        "from wordcloud import STOPWORDS\r\n",
        "import matplotlib.pyplot as plt\r\n"
      ],
      "execution_count": 11,
      "outputs": []
    },
    {
      "cell_type": "code",
      "metadata": {
        "id": "b5k7st6AWeHi"
      },
      "source": [
        "# couldn't get my word cloud image to show, stack overflow was helpful\r\n",
        "text = word_cloud_df.description.values\r\n",
        "word_cloud = WordCloud(\r\n",
        "    width = 3000,\r\n",
        "    height = 2000,\r\n",
        "    background_color = 'black',\r\n",
        "    stopwords = STOPWORDS).generate(str(text))\r\n",
        "fig = plt.figure(\r\n",
        "    figsize = (40, 30),\r\n",
        "    facecolor = 'k',\r\n",
        "    edgecolor = 'k',)\r\n",
        "plt.imshow(word_cloud, interpolation = 'bilinear')\r\n",
        "plt.axis('off')\r\n",
        "plt.tight_layout(pad=0)\r\n",
        "plt.show()\r\n"
      ],
      "execution_count": 12,
      "outputs": []
    },
    {
      "cell_type": "markdown",
      "metadata": {
        "id": "W_H1nXUZanMH"
      },
      "source": [
        "Add a quality column from points of wines to create bins/classes that match the winemag wine point classifcations."
      ]
    },
    {
      "cell_type": "code",
      "metadata": {
        "id": "WphL3267befT"
      },
      "source": [
        "# Robert Parker, one of the most important wine critics of our century, developed the 100-point rating scale that has governed wine since the late 1970s. \r\n",
        "# Parker created the system to mirror the grading systems used in schools where an “A+” is 95 or above, an “A” is 90 or above, a “B+” is 85 and above, and so on. \r\n",
        "# The wine in this data set only includes 80 points or higher, since most creditable wine magazines only pubish wine scoring in these ranges. \r\n"
      ],
      "execution_count": 13,
      "outputs": []
    },
    {
      "cell_type": "markdown",
      "metadata": {
        "id": "4ki8s_7Dc3ct"
      },
      "source": [
        "Scores:\r\n",
        "\r\n",
        "•\t95-100 — Superb: one of the greats\r\n",
        "\r\n",
        "•\t90-94 — Excellent: extremely well-made and highly recommended\r\n",
        "\r\n",
        "•\t85-89 — Very good: may offer outstanding value if the price is right\r\n",
        "\r\n",
        "•\t80-84 — Good: solid wine, suitable for everyday consumption\r\n"
      ]
    },
    {
      "cell_type": "code",
      "metadata": {
        "id": "vPGb9IaDdAe8"
      },
      "source": [
        "def getQuality(points):\r\n",
        "  if(points <= 80):\r\n",
        "    return 'Good'\r\n",
        "  elif(points <= 85):\r\n",
        "    return 'Very good'\r\n",
        "  elif(points <= 90):\r\n",
        "    return 'Excellent'\r\n",
        "  elif(points <= 95):\r\n",
        "    return 'Superb'\r\n",
        "  else:\r\n",
        "    return 'Unfortunately something went wrong, please try again'"
      ],
      "execution_count": 14,
      "outputs": []
    },
    {
      "cell_type": "code",
      "metadata": {
        "id": "T5Isopq6eOFY"
      },
      "source": [
        "# apply this loop to the points column and add the 'quality' column\r\n",
        "word_cloud_df['quality'] = word_cloud_df['points'].apply(getQuality)\r\n",
        "word_cloud_df"
      ],
      "execution_count": 15,
      "outputs": []
    },
    {
      "cell_type": "code",
      "metadata": {
        "id": "UwjptZXEhYwU"
      },
      "source": [
        "seaborn.catplot(x = 'quality', y = 'price', data = word_cloud_df)"
      ],
      "execution_count": null,
      "outputs": []
    },
    {
      "cell_type": "code",
      "metadata": {
        "id": "baDzbEn2jWzL"
      },
      "source": [
        "seaborn.barplot(x = 'quality', y = 'price', data = word_cloud_df)\r\n"
      ],
      "execution_count": null,
      "outputs": []
    },
    {
      "cell_type": "code",
      "metadata": {
        "id": "RVmswmYmjzpa"
      },
      "source": [
        "def getPriceRange(price):\r\n",
        "  if (price <= 25):\r\n",
        "    return '$1-$25'\r\n",
        "  if (price <= 50):\r\n",
        "    return '$26-$50'\r\n",
        "  if (price <= 75):\r\n",
        "    return '$51-$75'\r\n",
        "  if (price <= 100):\r\n",
        "    return '$76-$100'\r\n",
        "  if (price <= 200):\r\n",
        "    return '$101-$200'\r\n",
        "  if (price <= 300):\r\n",
        "    return '$201-$300'\r\n",
        "  if (price <= 400):\r\n",
        "    return '$301-$400'\r\n",
        "  if (price <= 500):\r\n",
        "    return '$401-$500'\r\n",
        "  if (price <= 1000):\r\n",
        "    return '$501-$1000'\r\n",
        "  if (price <= 1500):\r\n",
        "    return '$1001-$1500'\r\n",
        "  elif (math.isnan(price)):\r\n",
        "    return '$0'\r\n",
        "  else:\r\n",
        "    return 'Above $1500'\r\n",
        "  \r\n",
        "    "
      ],
      "execution_count": 18,
      "outputs": []
    },
    {
      "cell_type": "code",
      "metadata": {
        "id": "KNC_Jypzm_HG"
      },
      "source": [
        "word_cloud_df['priceRange'] = word_cloud_df['price'].apply(getPriceRange)"
      ],
      "execution_count": 19,
      "outputs": []
    },
    {
      "cell_type": "code",
      "metadata": {
        "colab": {
          "base_uri": "https://localhost:8080/"
        },
        "id": "KM1OxhEjnJ_5",
        "outputId": "efa246dd-ebdd-457d-891b-80c26c626d40"
      },
      "source": [
        "word_cloud_df.groupby(word_cloud_df['priceRange']).size()\r\n"
      ],
      "execution_count": 25,
      "outputs": [
        {
          "output_type": "execute_result",
          "data": {
            "text/plain": [
              "priceRange\n",
              "$0             13695\n",
              "$1-$25         75175\n",
              "$1001-$1500        7\n",
              "$101-$200       2690\n",
              "$201-$300        467\n",
              "$26-$50        42643\n",
              "$301-$400        154\n",
              "$401-$500         81\n",
              "$501-$1000        63\n",
              "$51-$75        11786\n",
              "$76-$100        4166\n",
              "Above $1500        3\n",
              "dtype: int64"
            ]
          },
          "metadata": {
            "tags": []
          },
          "execution_count": 25
        }
      ]
    },
    {
      "cell_type": "code",
      "metadata": {
        "id": "5xR9MzMTn9SK"
      },
      "source": [
        ""
      ],
      "execution_count": null,
      "outputs": []
    }
  ]
}